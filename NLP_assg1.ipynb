{
 "cells": [
  {
   "cell_type": "markdown",
   "metadata": {},
   "source": [
    "# Topic Analysis of Review Data"
   ]
  },
  {
   "cell_type": "markdown",
   "metadata": {},
   "source": [
    "## NLP Assignment 1"
   ]
  },
  {
   "cell_type": "code",
   "execution_count": 3,
   "metadata": {},
   "outputs": [],
   "source": [
    "import pandas as pd\n",
    "import numpy as np\n",
    "import matplotlib.pyplot as plt\n",
    "%matplotlib inline\n",
    "import nltk"
   ]
  },
  {
   "cell_type": "code",
   "execution_count": 4,
   "metadata": {},
   "outputs": [],
   "source": [
    "data= pd.read_csv('NLP_A1_reviewdata.csv')"
   ]
  },
  {
   "cell_type": "code",
   "execution_count": 5,
   "metadata": {},
   "outputs": [
    {
     "data": {
      "text/html": [
       "<div>\n",
       "<style scoped>\n",
       "    .dataframe tbody tr th:only-of-type {\n",
       "        vertical-align: middle;\n",
       "    }\n",
       "\n",
       "    .dataframe tbody tr th {\n",
       "        vertical-align: top;\n",
       "    }\n",
       "\n",
       "    .dataframe thead th {\n",
       "        text-align: right;\n",
       "    }\n",
       "</style>\n",
       "<table border=\"1\" class=\"dataframe\">\n",
       "  <thead>\n",
       "    <tr style=\"text-align: right;\">\n",
       "      <th></th>\n",
       "      <th>sentiment</th>\n",
       "      <th>review</th>\n",
       "    </tr>\n",
       "  </thead>\n",
       "  <tbody>\n",
       "    <tr>\n",
       "      <th>0</th>\n",
       "      <td>1</td>\n",
       "      <td>Good but need updates and improvements</td>\n",
       "    </tr>\n",
       "    <tr>\n",
       "      <th>1</th>\n",
       "      <td>0</td>\n",
       "      <td>Worst mobile i have bought ever, Battery is dr...</td>\n",
       "    </tr>\n",
       "    <tr>\n",
       "      <th>2</th>\n",
       "      <td>1</td>\n",
       "      <td>when I will get my 10% cash back.... its alrea...</td>\n",
       "    </tr>\n",
       "    <tr>\n",
       "      <th>3</th>\n",
       "      <td>1</td>\n",
       "      <td>Good</td>\n",
       "    </tr>\n",
       "    <tr>\n",
       "      <th>4</th>\n",
       "      <td>0</td>\n",
       "      <td>The worst phone everThey have changed the last...</td>\n",
       "    </tr>\n",
       "    <tr>\n",
       "      <th>5</th>\n",
       "      <td>0</td>\n",
       "      <td>Only I'm telling don't buyI'm totally disappoi...</td>\n",
       "    </tr>\n",
       "    <tr>\n",
       "      <th>6</th>\n",
       "      <td>1</td>\n",
       "      <td>Phone is awesome. But while charging, it heats...</td>\n",
       "    </tr>\n",
       "    <tr>\n",
       "      <th>7</th>\n",
       "      <td>0</td>\n",
       "      <td>The battery level has worn down</td>\n",
       "    </tr>\n",
       "    <tr>\n",
       "      <th>8</th>\n",
       "      <td>0</td>\n",
       "      <td>It's over hitting problems...and phone hanging...</td>\n",
       "    </tr>\n",
       "    <tr>\n",
       "      <th>9</th>\n",
       "      <td>0</td>\n",
       "      <td>A lot of glitches dont buy this thing better g...</td>\n",
       "    </tr>\n",
       "  </tbody>\n",
       "</table>\n",
       "</div>"
      ],
      "text/plain": [
       "   sentiment                                             review\n",
       "0          1             Good but need updates and improvements\n",
       "1          0  Worst mobile i have bought ever, Battery is dr...\n",
       "2          1  when I will get my 10% cash back.... its alrea...\n",
       "3          1                                               Good\n",
       "4          0  The worst phone everThey have changed the last...\n",
       "5          0  Only I'm telling don't buyI'm totally disappoi...\n",
       "6          1  Phone is awesome. But while charging, it heats...\n",
       "7          0                    The battery level has worn down\n",
       "8          0  It's over hitting problems...and phone hanging...\n",
       "9          0  A lot of glitches dont buy this thing better g..."
      ]
     },
     "execution_count": 5,
     "metadata": {},
     "output_type": "execute_result"
    }
   ],
   "source": [
    "data.head(10)"
   ]
  },
  {
   "cell_type": "code",
   "execution_count": 6,
   "metadata": {},
   "outputs": [
    {
     "data": {
      "text/plain": [
       "<bound method NDFrame.describe of        sentiment                                             review\n",
       "0              1             Good but need updates and improvements\n",
       "1              0  Worst mobile i have bought ever, Battery is dr...\n",
       "2              1  when I will get my 10% cash back.... its alrea...\n",
       "3              1                                               Good\n",
       "4              0  The worst phone everThey have changed the last...\n",
       "...          ...                                                ...\n",
       "14670          1  I really like the phone, Everything is working...\n",
       "14671          1  The Lenovo K8 Note is awesome. It takes best p...\n",
       "14672          1                       Awesome Gaget.. @ this price\n",
       "14673          1  This phone is nice processing will be successf...\n",
       "14674          1      Good product but the pakeging was not enough.\n",
       "\n",
       "[14675 rows x 2 columns]>"
      ]
     },
     "execution_count": 6,
     "metadata": {},
     "output_type": "execute_result"
    }
   ],
   "source": [
    "data.describe"
   ]
  },
  {
   "cell_type": "code",
   "execution_count": 7,
   "metadata": {},
   "outputs": [
    {
     "data": {
      "text/plain": [
       "Index(['sentiment', 'review'], dtype='object')"
      ]
     },
     "execution_count": 7,
     "metadata": {},
     "output_type": "execute_result"
    }
   ],
   "source": [
    "data.columns"
   ]
  },
  {
   "cell_type": "code",
   "execution_count": 8,
   "metadata": {},
   "outputs": [
    {
     "data": {
      "text/plain": [
       "<bound method DataFrame.info of        sentiment                                             review\n",
       "0              1             Good but need updates and improvements\n",
       "1              0  Worst mobile i have bought ever, Battery is dr...\n",
       "2              1  when I will get my 10% cash back.... its alrea...\n",
       "3              1                                               Good\n",
       "4              0  The worst phone everThey have changed the last...\n",
       "...          ...                                                ...\n",
       "14670          1  I really like the phone, Everything is working...\n",
       "14671          1  The Lenovo K8 Note is awesome. It takes best p...\n",
       "14672          1                       Awesome Gaget.. @ this price\n",
       "14673          1  This phone is nice processing will be successf...\n",
       "14674          1      Good product but the pakeging was not enough.\n",
       "\n",
       "[14675 rows x 2 columns]>"
      ]
     },
     "execution_count": 8,
     "metadata": {},
     "output_type": "execute_result"
    }
   ],
   "source": [
    "data.info"
   ]
  },
  {
   "cell_type": "markdown",
   "metadata": {},
   "source": [
    "## 2.Normalize casings for the review text and extract the text into a list for easier manipulation\n"
   ]
  },
  {
   "cell_type": "code",
   "execution_count": 9,
   "metadata": {},
   "outputs": [
    {
     "data": {
      "text/plain": [
       "'good but need updates and improvements'"
      ]
     },
     "execution_count": 9,
     "metadata": {},
     "output_type": "execute_result"
    }
   ],
   "source": [
    "\n",
    "reviews_lower = [sent.lower() for sent in data.review.values]\n",
    "reviews_lower[0]"
   ]
  },
  {
   "cell_type": "code",
   "execution_count": 10,
   "metadata": {},
   "outputs": [
    {
     "data": {
      "text/plain": [
       "['good but need updates and improvements',\n",
       " \"worst mobile i have bought ever, battery is draining like hell, backup is only 6 to 7 hours with internet uses, even if i put mobile idle its getting discharged.this is biggest lie from amazon & lenove which is not at all expected, they are making full by saying that battery is 4000mah & booster charger is fake, it takes at least 4 to 5 hours to be fully charged.don't know how lenovo will survive by making full of us.please don;t go for this else you will regret like me.\",\n",
       " 'when i will get my 10% cash back.... its already 15 january..',\n",
       " 'good',\n",
       " 'the worst phone everthey have changed the last phone but the problem is still same and the amazon is not returning the phone .highly disappointing of amazon',\n",
       " \"only i'm telling don't buyi'm totally disappointedpoor batterypoor camerawaste of money\",\n",
       " 'phone is awesome. but while charging, it heats up allot..really a genuine reason to hate lenovo k8 note',\n",
       " 'the battery level has worn down',\n",
       " \"it's over hitting problems...and phone hanging problems lenovo k 8 note...so where is service station in ahmedabad it's one years warranty so it's can change the phone by lenovo\",\n",
       " 'a lot of glitches dont buy this thing better go for some other options',\n",
       " 'wrost',\n",
       " 'good phone but charger not working / damage within 2 months.',\n",
       " \"don't purchase this item, it is so much of heating &battery life is very poor\",\n",
       " 'i have faced the battery problem and motherboard problem with in 8 months. this is the worst mobile in my life.',\n",
       " 'very good phone slim good battry backup good screen love it',\n",
       " 'headset is not available',\n",
       " 'every time automatic on and off so kindly suggest me what i can do',\n",
       " \"best product according to their prize range and it's specification comparison to another mobile(under range) and i had bought this phone during amazon seal so i had 2 paid only 10,999 but i have also hdpf credit card in which i was to paid only rs 9998.. .. so for me... it was 1 of the best deal ever which i hv done on amazon..\",\n",
       " \"battery draining very rapidly i don't know why..tell me possible solutions for battery life\",\n",
       " 'good smartphone',\n",
       " 'good',\n",
       " 'galery problem and there is not atmos speakernormal speaker in this phone',\n",
       " 'excellent camera , excellent speed.excellent features.excelent battery.',\n",
       " 'it ok good product',\n",
       " 'it is not a very good product camera are very poor ...os is not good...battery draining very quickly...like a odinary phone..it was fully unexpected product from lenovo..',\n",
       " \"does not have many options like cast screen, with or without wifi. no call recording option available. doesn't even connect mobile hotspot\",\n",
       " 'they have not gave with phone usb cable',\n",
       " 'awesome phone in this price and this is my second mobile from lenovo. it is fast and display has been improved.',\n",
       " 'the best of specifications with worst of functions... the worst phone any1 can ever buy..',\n",
       " 'i bouth this fon , but i am surprised to see that,this fon has two speekars but only one ringing other is non ringing. i am disappointed .',\n",
       " 'good phone. but there is some issue in displaying colors on screen.',\n",
       " 'before the new update of 8.0 oreo, it worked superbly, the battery back-up is also superb and there is not that much heating problem...but... after that update, my phone got heating up simply, battery is also draining unnecessarily... really very much disappointed after that update of 8.0 oreo...😒😒☹️',\n",
       " 'not a good one. dual sim are not working. poor customer service.',\n",
       " 'good performance but the battery gets oveheated',\n",
       " 'best camera and better backup is very bestin this pricefull passa wasole phone',\n",
       " 'wonderful best phone',\n",
       " 'bad performance.. signal goes off frequently, mobile restarts whenever it feels like, phone bcoms hot while charging.. plzz dont buy it.',\n",
       " 'best all round performance ever!!',\n",
       " 'by purchasing this we have loosed by, rs.3000 within span of 30 days. no trust worthy deals from amazon.',\n",
       " \"not worth it's big disappointment from lenovo signal problems big headache problems with incoming calls and always show that you are not in range.\",\n",
       " 'best phone in this rate camera quality is too good',\n",
       " 'it works very well.',\n",
       " 'amazing product. very good mobile at lower price. good features.',\n",
       " 'very good mobile at this price.. good quality of camera and it is fast for using',\n",
       " 'after using only 3-4 mins continuously it get heated.camera quality is also not good.',\n",
       " 'worst phone i have ever purchased. bigggggggest charging issue.',\n",
       " 'poor',\n",
       " 'i purchased k8 at first sell but charging of phone is very slow its take around 10 hr to full charge .....',\n",
       " \"ekdam bakwaaaasssdon't buy it network problem is permanent in lenovo k8 and camera quality very lowbattery performance also very lowpls don't buy it\",\n",
       " 'good phone',\n",
       " 'nice performance with 4gb rm and 64gb inbuilt memory',\n",
       " 'superb featurs. good battery loved this phone😍😍',\n",
       " 'value for money',\n",
       " 'nice',\n",
       " 'this is very beautiful and good looking this lenovo k8',\n",
       " 'bluetooth problem while connecting bluetooth speaker. audio breakups were happened. heating problem while we see you on youtube half an hour',\n",
       " 'good phone but heating problem exists. but it is a better choice.',\n",
       " 'battery standby problem',\n",
       " 'nice mobile, long battery back up , really killer camera and jet speed to run any apps.👌👌',\n",
       " 'amazing product',\n",
       " 'ok',\n",
       " \"not as described screen cast can't work with tv miracast and fast charging is take upto 2.15 hours contacts vcf files only download with google drive not by sd card total disappointed\",\n",
       " 'this is the device for average usage. battery could not last for a day. the biggest con of this phone is its battery. though it has 4000 mah battery, but it drains very fast. camera quality is good, not very good. specially, depth enabled mode, focus is not perfect. the thing i like most about this device is display.',\n",
       " 'good',\n",
       " 'india ka werorst mobile . battery fully charged offer 1 hour using 100 to 10 % . network signals full but incoming calls is out of coverage area.lenovo is cheating people.',\n",
       " 'nice mobile.',\n",
       " 'mobile is good in this range but battery backup not up to the mark, weight also very high....',\n",
       " 'good to have it at this price point',\n",
       " 'improve in camera in new update slow mo added and no heating issue now but still need system updated. system updates are very slow',\n",
       " 'superb',\n",
       " 'excellent mobile phone',\n",
       " 'very very good product and its really fast',\n",
       " 'fast delivery... but mobile not worth rs.10000..no gestures, no latest features... heating issues... better choose other brands..',\n",
       " 'best mobile.great specifications .camera is too cleare focus is too sharp and fast thanks amazon and lenovo for such mobile.must buy guys',\n",
       " 'verigood verigood.best',\n",
       " \"firstly product not delivered on time dissatisfied 2 weeks.secondly android 7.1.1 naugat doesn't have call recording optionthirdly when selling product cost was 13999/- now why drastically dropped. 10999/-fourthly when talking over the phone feels like nerve pulling to much radiation need immediate fix on this matter as it's safety and security of customer.fifthly if any issues in hardware issues please let us know the service centers location. and please ensure hardware availability should be there at any time when customers booked.finally as discribed about product all features are ok no issues found as mentioned earlier if call recording option would have added the this product would have been met the expectations.camera quality is good not bad snap attached.\",\n",
       " 'excellent product',\n",
       " 'nice & amazing',\n",
       " 'the device restarts automatically.....',\n",
       " 'bought this product recently from amazon. thoroughly dissatisfied with the phone. a thumbs down for this one.',\n",
       " 'really killer',\n",
       " 'hello all.. before you purchase remember battery performance of this device is very very poor. check the picture i attached. there was no use from 8 hours(sleeping) and i make sure data was off still see battery draining in idle mode. really bad performanc and this super turbo charger they calling is waste. its below thn average charger. really disappointed.i have just raised return request.pros : rest all good.cameradesignperformance etc',\n",
       " 'to wrest phone is hang problem',\n",
       " 'happy with the product ☺️🙂',\n",
       " 'very bad product.. lots of malfunction.. donot take this product',\n",
       " \"the look and sleekness of this phone is good. but the features in this phone is very less as this phone doesn't have the basic features like no sound controler option in shortcut shutter and most importantly there is no voice call recorder and the camera quality is also not good it is average in performance.\",\n",
       " \"third class phone, this time lenovo disappointed me, i have k3 and k4 note so bought k8 note without any kind of thinking and disappointed. it stucks anytime without any load to ram, battery is also third class defuces in very short time and turbo charge works sometimes but most of the time it works as normal charger.gallery and many othet apps aren't available as it has stock android, best thing is it often shows that process.android.com stopped workingwhat the ..\",\n",
       " 'ok with the product, but the problem was it gets shut down while charging',\n",
       " 'i love lenovo k8 note handset but i replace 3 times turbo charger in allahabad service centre within 6 month it becomes turbo charging to slow charging plz lenovo fix it, i request u',\n",
       " 'really good to buy',\n",
       " 'great features..',\n",
       " 'gift raping is very poorwords also very small (please refund money for that work)',\n",
       " \"i personally don't recommend to buy this product if anyone want to connect tv over cast screen option. option is available but not compatible with any other device other than chromecast for casting, though it was available for other model of lenovo phone.\",\n",
       " 'good',\n",
       " 'if you are looking for a mid range phone u can go for this, features are pretty good but some small problems arises now and then, if ignored then worth the money',\n",
       " 'as sim slot was not working i returned and got fast delivery too so giving 5 star bcz i m lenovo fan and i just love mobile the best mobile of this year. it get hot in less time but i guess we ca. ignore it bcz the phone is v.good and with lots of good features and killer look too.',\n",
       " \"worst for gaming and music.. i bought this for the deca core processor it has but it works worse than a quad core processed phone. and it said it has 2 speakers but one of them (left) doesn't have a speaker just holes to cheat buyers. decent camera and display. battery could be made better. and the ram keeps on working for 50 - 60% even while the phone is not in use.\",\n",
       " 'really awsome',\n",
       " 'there is heating and battery backup problem',\n",
       " 'nice phone ....',\n",
       " 'product is good. purchased on sep-17 and got cash back on 25dec17. what a way to make fool, they called it cash back.lol',\n",
       " 'nice mobile',\n",
       " \"mobile is good .but heating problem is one thing that..effecting it's popularity.\",\n",
       " \"in this segment it's very good productcamera is also greatsound is greatover all superb\",\n",
       " \"mobile in good working process more than expect but charger have big drawback it's not a turbo charger very late charging the mobile\",\n",
       " 'worst experience from lenovo. previously i bought k5 note and got mic problems. and now i m facing battery problem, camera problems. plz dont buy lenovo phones.',\n",
       " 'great phone',\n",
       " 'nice..',\n",
       " 'good,...,.........mo',\n",
       " 'like it',\n",
       " 'high expectation hurts 😪... dual camera is not upto the mark..... apart from that no issues at all..... 4g+4g logic needs to be made clear....',\n",
       " 'i bought the lenovo k 8 on the first sales day.but very much disappointed with the dolby atmos feature on the lenovo k 8.it does not sound good at all. when switch on also it sound so weak and not punching at all when i compare it with a lenovo k6 .can i get a sofwares updates to make it sound good?or is it that i got a defective phone?please let me know at the earliest?',\n",
       " \"it's battery is draining very fast.\",\n",
       " 'back camera images not so good.a yellow shadow occurred',\n",
       " \"functions of the phone are not good. performance is also wrost. total waste of money. please don't buy this phone. what ever they are showing in their add is false. please go for mi or any other brand which give very good mobile at this range.\",\n",
       " 'nice product',\n",
       " 'the worst phone i bought again from the lenovo. before i though with stock android it will perform good but the same story battery drain in idle time. dual camera is a joke. and still no fix update as lenovo known for it. please do not buy it.',\n",
       " 'very good',\n",
       " 'good mobile, heating problem but its normal',\n",
       " 'bad quality',\n",
       " 'phn is gud n nice.but the battery is draining too fast.battery is not 4000mah too bad',\n",
       " 'nice',\n",
       " 'some time display is not working prpperly',\n",
       " 'major disadvantage of this model is battery is not detachable..except that all features and working so nice',\n",
       " 'battery backup is very good',\n",
       " 'i am using lenovo k8 note (4gb, 64gb) model xt1902-3 type m2cb2 since last ten days. i am not fully satisfied with this product because i found one problem. amazon described in the product description that this handset has both sim slots with 4g enabled. but it is found that slot 1 support 4g whereas slot 2 supports only 3g, not 4g.',\n",
       " \"it's just a okay phone.no such effects of dual cameras.\",\n",
       " 'not a dual 4g support',\n",
       " 'one sim slot is 3g that is disadvantage, otherwise awesome',\n",
       " \"features are really good but, some backlogs1. though it has 4gb ram sometimes mobiles struck and delay in responding.2. 4000mah battery runs out quickly like 3100 mah.3. delay in camera operating response.4. delay in contact searching. it's irritating when we search for a contact and getting more time to save a contact.5. very worst mobile in this range.friends pls don't buy it. go for some better mobile..i swear u will regret after you use it.\",\n",
       " 'very bad camera.',\n",
       " 'front camera good but sound need to improve',\n",
       " 'amazing product in reasonable price range.',\n",
       " 'not expected at all. left speaker channel is false, only right speaker working. camera is avarage. double tap wakeup is not working properly. earphone sound quality is not better ( using jbl). not satisfied.',\n",
       " 'poor camera',\n",
       " 'not a good product...',\n",
       " 'the product is awesome',\n",
       " 'great phone',\n",
       " 'hang hota hai phone',\n",
       " 'great phone with excellent connectivity. quick charging and excellent talk time due to the large battery. the twin camera requires steadier hands than mine. ota update to android 8.0. but the bluetooth connection on this phone is intermittent and unstable.supplementary information: the claimed gorilla glass 3 screen is probably ordinary glass as it cracked as the phone slipped from my grasp while sitting on a sofa. lenovo says the screen is not covered. reducing rating to two stars.',\n",
       " \"fast delivery. delivery is to be provided for all districts. good phone. feels a bit heavy. notification sounds can't be adjusted, is a bit annoying. photos takes a lot more memory but not as much clarity for that memory. other features are good.\",\n",
       " 'i want return it',\n",
       " \"me bodru using lenovo k8 note from 29th august.this mobile's performance so good.but it's battery does note perform as another 4000mhz battery mobile.so plz check it and try to solve it.\",\n",
       " \"very poor batterybattery drain within 8 hrsit's doesn't show the 4000 mah performance\",\n",
       " 'it is good 😎😎 smooth !!',\n",
       " 'not too good , configuration is high but auto deduced when calling or listing due to auto touch to screen so huge problem is',\n",
       " \"purchased on 22 nd jan 2018. average phone at this price segment.though the cameras are supposed to be high performance but not satisfied.battery charged quickly and lasts for a full day only.lookswise ok, lenovo again a name you can trust upon.but don't buy with too much expectations, simply an average smart phone and off course good for rough use.\",\n",
       " \"not expected about the k8 performance is that much,i'm really happy about the product in all specifications,and the thanks to amazon for given me good and non damaged product in time.\",\n",
       " 'the best phone in terms of specifications, audio sound, battery, screen,camera, ram, rom alongwith corning gorilla glass. all the best things in a mobile without burning ur pocket.',\n",
       " 'lacks some apps like pc connection etc.',\n",
       " 'good phone after update',\n",
       " \"it's good\",\n",
       " 'not a good phone.. in only 2.5 month it started hanging with more than 25 gb available memory in the phone. camera is not also good. now lenovo have to seriously think about the performance of their mid range phones.',\n",
       " 'ye amazon wale both b.c hai .. phn kharida lenovo k8 note usme game ka hanging issue hai.. b.c replace k ly bolte hai par behanchod layla dete hai... bhosdi ke pese jane ke bad service bhi nai dete inka technician bhosdi ka game khelke kenya hai koi problem nai hai .. in behanchod me copy phone bhej diya much mat kaharidna.. amazon se .. bhot bhosdi wale hai...',\n",
       " 'volte calls & sms not coming in when the phone is in standby mode..',\n",
       " 'all things are good about this phone.smoothly running and no problem till now',\n",
       " \"this phone is goodbut camera is not so good as 13mp...over all it's good phone heating problem during charging\",\n",
       " \"worst depth effect honestly if you want to buy a phone with depth effect then go for mi a1 but this is not for youif you are a selfie holic then i recommend you to buy this phone bcz the selfie here is literally good as compare to other phones in this price range this phone is on top in terms of selfiein terms of processor i'll say that snapdragon 625 is much better then this bcz this phone will not save your battery as redmi phones does and this processor is built on 20 nm technology and snapdragon 625 is on 14 nm that's 625 is battery efficient but lenovo is providing you fast charger which is about 15w so don't worry you can get your day battery in just 1 hr. if you plug your phone on 20% then it will get charge 70 to 80% in just 1 hr. which can last upto 8 hrs.on minimal usage so if you really want to buy this one i'll recommend you to buy this but keep in mind some cons of this phone when you're buying it.\",\n",
       " 'its an excellent phone.......but sometimes heating problem may occur.overall phone is very good in every condition.camera quality, processor, turbo charging and many more fabulous features.',\n",
       " 'good mobile nice parfomce',\n",
       " 'really good product 👌👌👌',\n",
       " 'good',\n",
       " 'one of the best mobiles in recent days',\n",
       " 'no record facilities.no adequate instructions to use',\n",
       " \"it's can't compete with redme note 4\",\n",
       " 'excellent product',\n",
       " 'hello guys, i am rasidul kaji. when announced the killar phone lenovo k8 note . i saw the feature & decide to buy . bu aftwr 7th days using lenovo disappointed to me . because the is much more heating when playing simple game ex- temple run 2 . i hate this type of heating problem . in my opinion guys do not buy this product. west your money . i return this product',\n",
       " 'not a good phone , battery life is very poor and this phone has hang issue .',\n",
       " 'nice phone',\n",
       " 'automatic call recorder not availablebattery backup not goodbelow key light not availableheating problem',\n",
       " 'good mobile.....good performance....thanx to amazon....',\n",
       " \"phone is just ok...don't expect much...\",\n",
       " \"wrost mobile...heating too quickly, battery charge takes a lot of tym in turbo chrger, not good selfie camera so plzz don't buy this mobile\",\n",
       " 'good handset but accessories are bad quality.charger damaged in 2 month.',\n",
       " 'battery drains too fast , even when kept idle .please do not buy until lenovo do something about this.they know this issue and are cheating customers.',\n",
       " 'super',\n",
       " 'nice one....',\n",
       " 'love it.',\n",
       " 'as per the description it is updated with new software, unfortunately its the same older one no update already made.',\n",
       " \"don't buy this product ekdum bakwas\",\n",
       " 'excellent performance.',\n",
       " 'battery back up is frustrating. getting discharged very fast. camera is also not as claimed. made mistake in buying this phone.',\n",
       " 'battery backup is very poor',\n",
       " 'very nice phone ...1st time charging may led to heating..battery was good...side buttons was very loose this is a problem..deapth sensing mode is so..so...finger print senser was very fast...front camera was good and back also..screen is very good covered with gorilla glass 3..phone is very fast....it require 1st update when you start it...overall for my opinion phone was good...😎😎',\n",
       " 'works well with long lasting battery and with less heating even with double sim and mobile data.',\n",
       " 'nice camera clarity with good battery backup. screen quality is really nice. useful product. highly recommend to all age group...',\n",
       " 'thank u amazon for delivering in 3 days phone is nice at this price battery is performing good not satisfied in depth camera mode and every thing is fantastic in this phone i used me this after 6 days of use this phone is performing well',\n",
       " \"good product.it is fast fast operating system.it doesn't get hang.good storagesat a time internet and calling is good because of a lte network over 4g.overall it is a best product.....i love it.....\",\n",
       " 'normal smartphone with bit of bugs... with for the cost...',\n",
       " 'very very poor product',\n",
       " \"worst phone..several issues no proper response from lenovo customer care..why should we roam around service center after giving our 14k to this idiots.. seriously don't buy..full of crap and traps\",\n",
       " 'lovely',\n",
       " 'phone is very good. but i ordered a venom black variant & received gold variant.its so pathetic. i am going to return the phone.',\n",
       " 'very good',\n",
       " 'very good.',\n",
       " 'battery performance and charging time is really bad and worst',\n",
       " 'good phone, smoothly work touchscreen',\n",
       " \"great features under 15k rs. i'm totally satisfied with it\",\n",
       " 'amazing performance',\n",
       " 'worth the money...amazing service by amazon.',\n",
       " 'worthy purchase....using from approx last 4 months..handy & smooth touch..',\n",
       " 'perfect product...100% happy...thanks.',\n",
       " 'product is worst , even amazon and lenovo is not supporting properly if there is an issue',\n",
       " \"one of the worst phone i purchased. phone has some serious os issues, but technician could not able to crack it. amazon is not ready to refund the amount. they are cheating. please do not buy. don't go for amazon too.\",\n",
       " 'very bad .i got defected piece . headphone jack and hotspot not working.',\n",
       " \"poor battery and a lot of heating even for normal usage. i'll prefer moto g5 compare to this.\",\n",
       " \"when i dubble tap on image that can't zoom. why ?\",\n",
       " \"in this phone don't have gallery opetion or menu fix this problem as soon as\",\n",
       " \"after using for a month found 2 issues which annoying for me : 1) call recorder only records one side voice because of stock android, 2) network reception is poor compared other devices, not getting proper network for any of the network service provider, flactuating and sometimes goes down to zero,i have raised the complaint for any possible solution on lenovo forum, but haven't got anything yet and don't think got anything in future also\",\n",
       " 'very poor sound quality.',\n",
       " 'asome phone',\n",
       " 'the worst products i have ever buy.',\n",
       " \"too much heating , battery drains up very very quickly, issues with mic , most of the time calls inaudible, please don't buy it.\",\n",
       " 'express delivery',\n",
       " 'very nice lenovo k8 note. no problem when connecting to pc/laptop. battery backup is very good. both cameras are very good quality.',\n",
       " 'good',\n",
       " \"nice phone with great features at this price. but only problem is my phone gets off anytime without any reason. complained to amazon for exchange. waiting for amazon's response.\",\n",
       " \"very gud phone excellent resolution and camera is supurb but i'm having some battery and heating issues..\",\n",
       " 'need a invoice',\n",
       " 'good mobile a reasonable price',\n",
       " 'better choice.... awesome camera & also performance...',\n",
       " 'worse product from lenovo upto now . no proper singal , network issue is big problem . poor singnal quality on all operators. which effect calls , internet speed all .',\n",
       " 'nice mobile',\n",
       " 'so good',\n",
       " 'most disgusting phone ever. heating issues, bad camera, low battery level. battery heats so much that i am afraid that it may burst. i am planing to throw this mobile. its a threat to life.bad service by amazon also. earlier those people said phone would be return according to return policy. but they gave wrong information. they are asking me to go to lenovo customer care and get it verified even if it is faulty even being in returnable period. this is really disappointing. i strongly recommend people not to buy this garbage from this site.',\n",
       " \"this lenovo k8 was fine for two days subsequently it takes more than 8 hrs to charge inspite of rapid charger - i have been to thier auth service center in vain as they are not aware of the product & solution - i had given k5 for service under warranty it's still lying with them for more than 17 days, this became defective for using google navigation got over heated & switch off - this makes me rethink about lenovo products through amazon sale\",\n",
       " 'good',\n",
       " 'the phone is awesome! a must buy product! value for money product! ignore some small drawbacks ....',\n",
       " 'nice',\n",
       " 'in coming sounds are not working',\n",
       " 'apple se best',\n",
       " 'features not up to the mark',\n",
       " 'never boots up, since last night it showing lenovo logo powered by android,. sad product,it is really bad experience',\n",
       " 'nice smart phoen',\n",
       " 'firstly i ordered it but got a defective peice and it was like a hell to meagain by replacing it i got a good peiceand now it meant all my requirementsgood speedgood cameragreat speed no hangingloved it',\n",
       " 'my invoice bill is not given.i m in a fix',\n",
       " 'bhangar phone',\n",
       " \"i bought it before some day and it is nice phone with some demerits which u must to know that according to my views and uses it's screen is not actually gorilla glass.it is easily brokenable and phone thickness is much more than usual phones.\",\n",
       " \"product is ok it's my second mobile in one month but heating problem is main issue to much heat when charging and net using....raj mishra7383506358\",\n",
       " 'not bad',\n",
       " 'awesome budget phone competeting with mi note series...',\n",
       " 'sound is good,turbo charging is just a marketing gimmickcamera is just average..samsung camera quality in the same price range is much better',\n",
       " 'only one speaker given & sound quality bad',\n",
       " 'good phone at this pricebut still work on turbo charging it takes nearly 4hrs to 5hrs to get fully charged',\n",
       " 'nice worth money..',\n",
       " 'super',\n",
       " 'there is no super cast feature, my old mob lenovo k3 note is itself as this feature. without casting i dont like this, unable to connect to smart tv',\n",
       " 'no...it is getting draining battery very fastly....and some apps are crashed...i does not like this product..try to improve battery performance am requesting lenovo',\n",
       " 'worst phone everor the worst android version everbattery drains in 2 hrs from 100-10never buy this phone or any phone having android 7.1',\n",
       " 'i am a movie lover. wanted to watch them on my big tv screen by casting them from my new k8 note. i have an android tv box - not chrome castthere is a option in phone to cast under display,but disappointingly the phone could not find the tv.to me this a major draw back. it may not be a serious issue for those who do not use mirroring.worst thing was when i wanted a solution from lenovo team through live chat, the person who was chatting, one mr saleem says k8 can cast only through chrome cast.further when i was typing my next question, he abruptly disconnected.there are also lot many posts by several users complaining about the casting issue on k8 note.',\n",
       " 'nice phone. best specifications.',\n",
       " \"it's very nice product and i use the phone and i very happy\",\n",
       " 'satisfied with the product',\n",
       " 'very good phone in this range......',\n",
       " 'not good as samsung quality products, earphone should be given with the phone.',\n",
       " \"phone is good, doesn't lag but battery backup is not up to a expectation level...overall a nice phone , got 2000 off during diwali plus additional cash back by paying through debit card\",\n",
       " 'nice phone for the price. casting not working even after sw update.camera is avg and slow. no headphones in the box.',\n",
       " 'awesome mobail ,but battery is too poor',\n",
       " 'good',\n",
       " \"the phone's wonderful but the box which reached me did not contain any earphone.worst delivery\",\n",
       " \"the delivery was fast but they didn't given invoice this is bad the mobile is good battery backup is moderate and volume in headphones is a bit low\",\n",
       " 'flash light not working , default write disk not available , good build',\n",
       " 'good phone but rear camera is not so good and dolby atmos is not working. actually bug in lenovo os',\n",
       " 'best phone of 2017',\n",
       " 'mobile is good. but the charger is not the turbo charger',\n",
       " 'very nice phone,no problem yet..',\n",
       " 'nice phone looking smart.',\n",
       " 'excellent',\n",
       " 'affordable',\n",
       " 'very good',\n",
       " 'looking stylist but sometimes network problem found.',\n",
       " 'a good product by lenovo and delivery was great by amazon. dual camera may be much better, but its depth enabled mode needs more improvement. overall the performance of phone is good.',\n",
       " 'pros are more here than cons ..',\n",
       " 'very bad network connection every day network problem....',\n",
       " 'draining battery fast.... heating when the phone is plugged into charge in off mode... network issues in calling using jio... processor performance is also not good..',\n",
       " 'i bought this phone for my friendhe is pretty happy with the phoneall the specs meet his daily basic requirementsbuta highly skinned os makes it little fullotherwise a great tech',\n",
       " \"battery is poor. again disappointed with lenevo. can't work whole day with so called 4000mah. lenevo should work on this and camera part also which is poor\",\n",
       " 'empty box.product missing',\n",
       " 'excellent!!',\n",
       " 'nice phone',\n",
       " \"it doesn't connect to my samsung level u bluetooth headset. even it just don't finds while searching.\",\n",
       " 'great product...no defects...worth the price...the delivery guy even opened the void seal in front of me...',\n",
       " 'i always trusted amazon..but this time they gave me defected piece. my phone gets heated everytime and the battery goes down very quickly. m so pissed of by this, it has been only two days and i am experiencing this',\n",
       " 'nice phone,fast, good battery backup and good camera clearity',\n",
       " 'nice phone very nice features i love to use this phone',\n",
       " 'very nice',\n",
       " 'not upto mark especially camera',\n",
       " 'sound quality is not good and also no gallery to store images.. need to download for play store..rest everything is perfect.',\n",
       " 'good phone',\n",
       " 'over all good phone... a little bit of heating while charging which i think is normal as turbo charge.... else no heating problem... a nice looking device... camera quality is not as expected....battery backup is good.. after playing games and spend good online on airtel 4g network.. i charge the battery to 100% in morning time and at the end of the day i am ending up with 40-45% battery remaining..... a better product in this price range.',\n",
       " 'nice',\n",
       " 'i found everything what expected except headphone.',\n",
       " 'the fone is overall good. but there are issues with network connections especially while using volte on jio.',\n",
       " 'totally waste',\n",
       " 'it was good but in this heating is main disadvantage but everything is good',\n",
       " 'amazing',\n",
       " 'no contacts in phone everything to be stored to google, in bigger font size, the display ia going out of screen, the signal indicator ia never full....not a great phone compared to its predecessors',\n",
       " \"i had purchased on 08/10/2017 after using more than 15 days found that device fault of software mobile getting hang and restart automatically .same issue consulting with lenovo customer care as per there technical solutions till problem not solved.after that i was visited lenovo care mapusa goa as per there technical expertise need of software upgrade after software updated till issue not resolved. after this there technical expertise person said need of change of mother board .i have questions about lenovo product that mobile not having any physical and water dimage then how could possible mother board probleam and in goa there is no any lenovo care centre in margao and panjim it's near about 50 km from margao. so weast of my valuable time which is more cost than my money and also weast of my money . please do not go for this product. bad service faulty products.\",\n",
       " 'this phone is very good...i like this phone',\n",
       " \"got the phone delivered on time . that is the only good thing in this entire experience of mine . (updated now) a new update , the first update didn't provide any noticeable difference but this one's log looks promising, let's see..i have been using various models of mobiles , have never seen such a terrible device , . bought this after much thoughts by trusting the name lenevo .i have been using redmi note 4 & it never had any issues with battery or even camera . listening to music through youtube , browsing, facebook , insta , still solid backup for more than a dayi have 4 other phones also , moto g3 & samsung s3 , htc 628g , samsung j7 prime .this phone(lenevo k8) seems to be worst among all.1)battery : has left me shattered with its worst battery life , have just used to take some pictures , youtube & songs , it goes down very fast . (yet to enter two sim card & use whatsapp , gmail , so if it continues to become more worst i'd surely update & escalate this )2),camera quality(for a dual camera , it is nowhere near honor 6x which is 1k lesser) .if you are tricked by the dual camera ( it still has not got update of slowmo , time lapse ) but it is really good when taken in professional mode with manual iso & focussing.a disaster in auto mode , that too for a rear camera with dual lens .i wish the company wakes up and starts rolling out ota update for camera & battery life improvement.other than that , the phone is super smooth , display , touch , finger print sensor & stock android is a bit of self satisfaction that i can say to myself for wasting 14k .i thought of gifting it to my father , but this would make it surely an incomplete gift .!wish the company looks into these issues & provides updates for the camera & battery life because that is what it was paid for & marketed by the company claiming those 2 are the highlight factors.lost interest to even post pictures of it.with much regret.\",\n",
       " 'it was launched as the next big thing in budget smartphones and claimed to have the best camera in that range.phone is ok.decent battery life, not the best but still a decent camera.after 4-5 months of use i found it starts to hang a bit but i guess that’s normal with low budget android devices.',\n",
       " 'not very great phone. it says it has turbo charge but it takes four hour to reach 100%. not worth buying',\n",
       " \"very bad mobile don't buy it...\",\n",
       " \"4000mah battery, but doesn't work as......low battery backupoverall 4* but for battery 2*\",\n",
       " 'ok',\n",
       " 'lenovo k8 note heating over some times yes or no ?',\n",
       " \"don't buy this product from amazon. when i bought the product it was scratched. keep these thing: it is a radiation phone. i can use this phone of 10min and feels headache. i contacted the amazon many times. they will not help you. don't buy this phone spending this much money. service from amazon is also very poor.\",\n",
       " 'very good battery backup, nice camera. doulby system sound very nice. budget phone very good.',\n",
       " 'nice experience. battery backup, both camera are very good. speed is also nice and its charging is very fast.',\n",
       " 'awesome battery backup ,awesome camera,great audio and video experiencetotally a killer note till date',\n",
       " 'great phone.... buy only if you can compromise with the cameras.... cos they are not good at all',\n",
       " 'good',\n",
       " 'camera not good and dual sim has issues randomly if jio used.calls not receiving at times even though full signal',\n",
       " 'bettry is very very poor..and phone is getting hot',\n",
       " 'sir ,iam akash adagond ,all is well but it has curved on screen display so when i attach a tampered glass the air gap present surround the screen ,plz tell where i purchased a tampered glass sufficient to this mobile ,or send me that ,i will pay the bill pls pls pls pls pls',\n",
       " 'one month back i am purcsaesd lenovo k8 mobile.now i am facing charging problem...... now it takes almost 4 hour to full charge...',\n",
       " 'i am not satisfied with this phone..though it has lots of good features..i have faced several times hanging issue, i have lodged complain to amazon..but ...nothing happened..',\n",
       " \"it worked fine for first 7 days. afterwords touch is not working properly. some times touch doesn't respond, after few mins screen keep flickering multiple times, without even touching it. had horrible experience with this phone. i want to return this product.\",\n",
       " 'very nice product',\n",
       " 'very good',\n",
       " 'lots of issues, os is truble. do not buy this item, returning policy is not working, do,t buy on amazon',\n",
       " \"bad decision of buying this phone... firstly it was not up to the mark....as it's specifications are mentioned....the 1st mobile was replaced within 7 working days....after that they replaced it with a new one....the new phone worked properly (though not 100%) for the next 5 months...then suddenly got dead...and now i can't even switch it on....poor quality phone from lenovo....no other option but to wait at the service center to get it repaired👎👎.\",\n",
       " \"camera and it's performance is nice but battery backup is very poor\",\n",
       " 'not fast chargingcharging time 8 hrs',\n",
       " \"i request you all please don't buy this product.phone is heated up always.turbo charger performance is poor.phone performance also bad.\",\n",
       " \"awesome phone with cool performance.money's worth mobile phone.prospicture qualitydolby atmosbatteryprocessormusic keystock androidfast chargecons:dual camerano custom uiheating issue while in charge\",\n",
       " 'my goodness..nvr thought abt it, mobile auto restart issue from the very next week, battery draining fast, application crash, charging issue, voice issue..from the 10th day of purchase i m facing all these issues..',\n",
       " 'very nice look mobile',\n",
       " 'kuch khas nahi',\n",
       " 'very bad interface, screen does not turnoff when receiving a call, app start and stop working at their own will. very poor network reception, volte feature turns off automatically need to restart or go offline & online for the feature to come back. camera is only think that is okay about the phone',\n",
       " 'good i using it till 5 months its superb.....',\n",
       " 'i want invoice',\n",
       " 'lenovo could not assure you of separating themselves from their relationship with heating issues.. a phone though is spectaluar at the price but lags in bokeh effect.',\n",
       " 'nice one... bt battery is not so good.',\n",
       " \"it's a awesome phone in lowest price..\",\n",
       " 'body is very heatingbattery usage is suddenly decrease',\n",
       " 'after using few weeks i can say this phone has met all my expectations and i am completely satisfied with it, specially with camera and it’s effects, battery is up to the mark, dolby speakers works really good ,no issues with memory, supports 4g on both sim cards, wifi connectivity is also good...however there is some issue related to cell phone networks, specially during roaming areas, i could say there is small lack in the network chipset due to which sometimes it puts you in a situation where it’s doesnt shows you any kind of signal whereas other phones could get the network very easily.overall performance is really good and satisfactory.apart from this i haven’t received my jet previledge bonus points which i supposed to get for this order.thanks',\n",
       " \"from the begining it's google not responding.sometime it gives the feelings that i bought a second hand mobile.\",\n",
       " 'gud buy for people looking for budget oriented smartphone.happy tht lenovo has improved its camera.',\n",
       " 'i am very irritating with this phon. i bought this phone in amazon on 8th sep. my phone having software issue. when i am install new app in my phone it was installed but i can not see on my phone. if am rebooting phone then app will be show on screen and then i can use it. this i am facing issue. try to solve this problem or suggest me what can i do now. am also contacted with customer service center also they can reinstall os but problem not solved.',\n",
       " 'worst phone i have ever taken lenovo is fck product ...killer note total killer...',\n",
       " 'value for money.got before time delivery.excelent performance..',\n",
       " 'bestest smartphone',\n",
       " 'not up to mark.processor is very slow and the operating system is also not user friendly',\n",
       " \"don't buy lenovo phones....it's the worst bet for your money. have had enough bad experiences with the k3note\",\n",
       " \"dabba mobile..pls dnt take dis..i thought 13mp cam is vry god wit d picture & selfie bt it's nt expected..it's vry poor & lenovo k6 power is better dan dis..\",\n",
       " 'no head phone in the package',\n",
       " 'nice pricing and nice features. value for money',\n",
       " 'awesome mobile battery and camera are best in class.',\n",
       " 'over heating when we use volte and battery draining very fast otherwise phone is ok',\n",
       " 'too good',\n",
       " 'good product . satisfied price',\n",
       " 'very poor in quality after using 3 days the phone is dead now',\n",
       " 'chargre not working',\n",
       " 'performance of camera (front & rear) is worst. it doesn’t illuminate properly & adequately. picture quality & images are very poor, worst, low illuminating, irritating, strains the eyes. even the full brightness is dull & worst.',\n",
       " 'good but slitly need to improve the depth mode in camera.',\n",
       " 'camera is not good',\n",
       " 'super phone',\n",
       " 'very good product & amazon good service',\n",
       " 'just buy it',\n",
       " 'i owned lenovo k4 note before this.there is no problem for even 2 years.but this k8 note is a worst phone that i ever used.i faced many problems in my first day of using this phone.dolby sucks!screen flickering!low sound via earphones!please ignore models which came after k4 note!i am going to return this crap.',\n",
       " 'very good product...fast delivery by amazon..',\n",
       " 'this phone was all awesome for me at the given price, except for one big flaw! it boasts to have a battery of 4000 mah. but i have to charge it twice a day. the phone loses 85% of charge within 12-14 hours of normal use*.*by normal use, i mean keeping the 4g data on. 20-30 mins of call. no gaming.',\n",
       " 'some time hanging problem and battery problem please call me',\n",
       " 'amazing speed, fluid touch experience, app installation time is great, charging speed is really good, full charge in just 2 hour, battery backup is good with full day uses. camera quality is really good, love this phone',\n",
       " 'phone was very good.. in case of performance...but depth effect was not proper... simply waste.the case cover they gave was damaged... apart from this everything was fine .very good product',\n",
       " 'lenovo k8 not, near me, thank you',\n",
       " 'heating up while using',\n",
       " 'mobile is fast, camera is good but only one speaker is working, did not expect this from a company like lenovo, want to return/exchange.',\n",
       " 'a must buy smartphone in the middle range.... really loving it......',\n",
       " 'good work',\n",
       " 'fine',\n",
       " 'outstanding better than mi and redmi all features is outstanding camera is awesome',\n",
       " 'mobile heated',\n",
       " 'very bad product mobile heating problem,charging very slow.',\n",
       " 'every thing is fine apart from battery backup.',\n",
       " \"just loved it , it's around 2-3 weeks that i am using this phone and there is no issue . let see how it works in the long run .\",\n",
       " 'good performance',\n",
       " \"the mobile is good starting i faced some heating and charging problems but after the update it's working well and all camera ,heating etc all problems was solved and i'm typing review from this phone\",\n",
       " 'very good and worth it..',\n",
       " 'nice',\n",
       " 'so nice on average mobile',\n",
       " 'not good',\n",
       " 'not satisfied with the phone, since volte not working, misguided by amazon as well as lenovo saying that it is a volte phone. whenever wifi starts call disconnect. even lenovo not responding',\n",
       " 'needs frequent charging and call drop problem.',\n",
       " 'very bad product.only hardware is good but software has many defects.user interface system is not good.conference call,call waiting not working.auto brightness is malfunctioning,auto focus not good.there is no option for multiple delete contact,contact management functions lack,there is less option of modification & gesture.lack of customer support of lenovo.',\n",
       " 'at the time of charging it becoming hot.',\n",
       " 'great combination....but dual camera is not that much effective.',\n",
       " 'awesome phone',\n",
       " 'really good...',\n",
       " 'get hot after 5-10 minute of gameplay or internet usage... unacceptably hot. worst phone ..lost my money on this phone. do not waste your hard earned money . they would t even return this item amazon should at least give replacement , but no options... i feel cheated.',\n",
       " \"i doesn't got any cash back of 10% on using sbi debit card\",\n",
       " 'my brother liked it very much. he is happy with the mobile and its features. thanks lenovo and thanks amazon.',\n",
       " 'best smartphone in this price segment. ...such a great feature. ....',\n",
       " 'awesome phone in such a price',\n",
       " 'good one',\n",
       " 'pathetic phone. here is why this one is a flop show. dont even think of buying this so called phone. even a brick is better1) takes 3 hours to fully charge. sometimes charges in half an hour. once i was stuck at 43 percent for nearly 10 mins2) phone doesnt allow you to answer a call sometimes. the screen just freezes3) doesnt latch on to network properly. you get lots of missed calls alerts4) some apps such as trucaller dont work wellthis is the last lennovo device i ever buy...',\n",
       " 'battery drains very fast when im using continuously . the battery drains from 100% to 0% within 4 hrs , being the battery 4000 mah',\n",
       " 'swipe to unlock, unlocks the phone with out even asking password.',\n",
       " 'mobile is not working',\n",
       " 'its the best phone i ve ever used since i am born',\n",
       " \"nice phone at this price range.....deca core processor was awesome it loads games quickly.....i received an update for slow motion recording...hope receive an update for 4 k tecording.....only drawback is the camera quality is lower than redmi note 4 and moto g5s plus....this phone doesn't sense the natura color of images properly than it's competitors.... battery life is average don't expect too much life as 4000 mah....i hope lenovo might solve this probs through update....my rating was 3.7\",\n",
       " 'not satisfied..over heating',\n",
       " 'this is really an awesome mobile phone.',\n",
       " 'mobile is good but not received proper bill and there is no emi no mentioned on bill',\n",
       " 'phone is good but features is not well old features and functions in this phone',\n",
       " 'everything is excellent..and excellent features.but lens used in camera are poor qualitywhen image is zooming ...it will show lot of noise...better ..if they will update camera feature..',\n",
       " \"too much heating problem almost feels like burning my ear while talking...no turbo charging lenovo and amazon are just fooling and looting our money..please don't buy this product..\",\n",
       " 'i want invoice for mobile(variant).',\n",
       " 'awesome...just updated to oreo..',\n",
       " 'i want my mobile invoice by mail',\n",
       " 'very worst back camera front was perfect and battery was not to be expected level flas light is also not good',\n",
       " 'bhul se mat lena koi bhi ye mobile..battery backup bilkul kharab hai..agar kahi bahar nikle to 2se 3 ghanta me battery low ho jayega',\n",
       " 'great mobile with deca core and good ram',\n",
       " 'good price good phone',\n",
       " 'if you have this than you become photographer',\n",
       " 'few cons to consider:this product heats a lot during gaming,gps navigation,camera and charging.switch off -switch on time (reboot) time s bit more.',\n",
       " 'nice .but if you can afford 2000 extra than you should go for moto g5s plus',\n",
       " 'bad experience ever not expect from lenovothis phone has hardware issue and heating problem, as well as batterylow backup turbocharger takes1and half hour to chargewrost experience ever',\n",
       " 'good mobil',\n",
       " \"this phone has whatever i need, plus it's in budget.\",\n",
       " 'usb data cable is not working',\n",
       " 'device is getting heated with any application usage for more than 5 mins',\n",
       " \"this device running smoothly for 2.5 monthsafter that hanging problem eg then data is book can't open very slowly change and many more problems in this device.\",\n",
       " \"i'm loving it so far........great specs, awesome performance,the best in its price range for surethe only complaint if any is that it uses only one of it's dual cameras for normal photos and so takes like 3 seconds to focus on a page\",\n",
       " 'very amazing phone in this price',\n",
       " 'bad phone',\n",
       " 'awsome',\n",
       " \"all of sudden phone's sim slot isn't working.i think it's a hardware problem.kindly fix it as soon as possible..\",\n",
       " 'excellent mobilecamera clarity superb front & back 4.8**display clarity fine 4.5**battery ok 4.2**signal issue is very high 3.5**os speed ok4.5**better than mi note 4overall parformence is good',\n",
       " 'budget phone. average battery. fast charger saved the show. front camera is good. rear camera in normal mode is good but struggles in depth enabled mode. dual sim plus dedicated memory slot is added advantage. a bit of android glitches were observed but nothing to worry. looks are good. venom black colour is quite impressive.',\n",
       " \"this phone is amazing, it's camera is too good, perfect for selfi..\",\n",
       " 'got scratch in gorilla glass after 10 days use.can i get replacement?',\n",
       " 'it is really a nice phone.',\n",
       " 'nyc product',\n",
       " 'phone is nice but i think mi y1 is best. price difference also big between them.',\n",
       " 'camera decent, perfomance good, heating issue, battery backup not good',\n",
       " 'worst phone i have ever seen battery not comes even half a day i have called several times to amazon to return the phone but their response also worst than this phone',\n",
       " \"after around 3 months i finally came to a conclusion that this phone is average in all fields. battery last for around 1 day of moderate usage after an overnight charge. heating issues facing since the day i bought it. gaming performance is good.i have tried all types of games including gta san andreas and nova 3. there are no lags in the performance, the mediatek processor produce enough juice to pump the phone. i liked the selfie camera more than the primary one as the bokeh effect is crap and the single camera is also not good enough and here comes the major problem i'm having whenever any song is played on bluetooth connected speaker and the data is on the musoc starts distorting. overall an average phone. i think there's more out there in this price range but it's not a complete failure. regretting after buying.\",\n",
       " 'camera performance are not good',\n",
       " 'i been using it for last 4 days. and the phone is actually a killer. that being said by lenovo \"killer\" i hope that the phone doesn\\'t really kills me. cause the only thing that is bothering me is this heating issue while charging.',\n",
       " 'awesome performance good clarity awesome features',\n",
       " 'awesome phone in this price',\n",
       " \"it's been almost more than 2 weeks that i am using this phone and have not faced a single issue. it's worth every penny. sturdy built, good hold, awesome touch, loud speaker, super battery backup, good rear and front cameras and top it all stock android. go for it.\",\n",
       " 'my phone is good condition',\n",
       " 'very nice good phone',\n",
       " 'over heating while using net.',\n",
       " 'not bad',\n",
       " 'this is good phone with awesome battery backup and camera clarity.',\n",
       " \"worst product at this price lack of features as compared to other lenovo product better go for redmi don't buy this\",\n",
       " \"good phone i'm happy with this\",\n",
       " 'this lenovo k8 note issues are given below ?1. 4g volte & 4g lte network not supporting2. if u want to set phone ring tone (music). then u have to down load es file explore.',\n",
       " 'good but slow after using 3/4 month',\n",
       " 'nice product',\n",
       " 'not bad',\n",
       " 'nice phone',\n",
       " \"i don't like this phone dual camera is totally garbage and battery also not working well....deca core processor ke baad me bhi real maja nahi aa raha battery without use hi discharge ho rahi hai contacts sim or phone me save nhi horhe,,dollby atmos kuch kaam ka nahi hai isse achha toh kisi normal phone me jet audio plus download krdlo headphone jack ki sound bahut kam hai sometimes new installed app was don't show phone ko restart krna padta hai so i don't like this lenovo k8 note...\",\n",
       " 'great specifications and big screen in this price is value for money. i think the camera quality could have been better having dual camera. almost moto like interface does not make it something different. works fine.',\n",
       " 'product damaged , display not working properly , blinking issue , camera quality is worst',\n",
       " 'phone stopped working after 2 weeks of purchase and very bad service centre.lenovo k8 note the \"worst phone of 2017\"',\n",
       " 'good performancebutlow quality of gorilla glassbut glass camed cracked',\n",
       " 'awesome phone...no lag, camera is average but with lil effort you can pull fine quality images.',\n",
       " 'nice',\n",
       " \"that's for very heating i note setsfid\",\n",
       " 'very best phone this range',\n",
       " 'just need more battery backup its very poor battery back up need to improve with software updates',\n",
       " \"wrost mobile i ever seen, jio number is not support for call, only for internet, my request is don't buy it.\",\n",
       " 'phone getting heated up. need to return',\n",
       " 'best mobile for all needs',\n",
       " \"it's camera clarity is badit's camera features are not available as shown in magzineee\",\n",
       " \"don't buy this product very worst\",\n",
       " 'very good mobile with great features',\n",
       " 'ever worst mobile dont buy even from amazome they did not take it back',\n",
       " \"it doesn't have any tracking facility to track own mobile location. if mobile lost you can't find like samsung and apple does.\",\n",
       " 'very good phone and value for money',\n",
       " 'that glass is not aa scratch proof by putting a small stone it has aa line on glassbut it was nice',\n",
       " 'phone all goods i like it.but tag line \"lenovo k8 note (venom black, 4gb) with new system update\" doesn\\'t match. since i had purchase my phone my os didnt update to oero. so i m little bit dis- appointing . as i had mail to lenovo customer care also but didnt got any feed back or reply from them.',\n",
       " 'lanovo k8 note is all good but network problem',\n",
       " 'overall good ...but fast camera depth mode pe bhi on nehi hota.... i hate it... want to return...',\n",
       " 'v.nice',\n",
       " 'good but little heating effect',\n",
       " 'amazing phone...tnx amazon',\n",
       " 'depth mode is not so good and battery stand by time is too low even after 4000mah battery',\n",
       " 'nice phone working perfectly . better than mi note 4 !',\n",
       " \"first week it's horrible,,,then it's best\",\n",
       " 'hotspot not working, seeking support',\n",
       " 'awesome mobile...just go for it',\n",
       " 'mobile camera is good, battery is not as redmi mobile',\n",
       " 'flash light not open in night video calling',\n",
       " 'battery utni mast nahi he.',\n",
       " 'lenovo service center. is not working.my data cable problem. not solve. 1month',\n",
       " 'camera function not too good',\n",
       " 'instead of turbo charging it took 1.5 hr for 42%.raised request for replacement/return and found pathetic response of amazon. feeling cheated by amazon & lenovo.',\n",
       " 'nice',\n",
       " 'worst phone',\n",
       " 'very bad and when lenovo and moto merged the standard of lenovo went to a worst condition. the 4gb decacore do nothing....dont buy it. very bad.....',\n",
       " 'good deal through amazon...',\n",
       " 'nice phone',\n",
       " 'almost same as k5 note ,but memory n software updated,some times reset automatically thus four star,and dual cam portrait mode not that good (thus 3 star )as this was the main update compare to old model of lenovo. but nice to go it if u dont care about dual camera .it is paisa wasul product .',\n",
       " \"not as expected. average battery you have to charge two times daily. dolby not working most of the time. bluetooth issue when you connect the phone with a bluetooth device and play a song or vedio audio breaking occurs most of the time. it's quite irritating. contacted lenovo help many times but could not find any solution.please stay away from the phone. you can buy good alternates with this price\",\n",
       " 'bakwas phone',\n",
       " \"front camera quality is poor.auto focus doesn't work. compared to lenovo 2 mp front camera camera of this phone is worst.\",\n",
       " \"product is good but i didn't like amazon app.\",\n",
       " 'heating problem during charging and working on net,battery poor performance and not supported voltee please suggest for better performance.',\n",
       " 'only problem i see is its taking too much time in restart',\n",
       " 'awesome mobile k8 note',\n",
       " 'turbo charging not fast fast charging not good camera not good',\n",
       " \"yeah product is excellent i loved it superb.super battery backup and camera is very clear and beautifulbranded is branded* low price more features it's really amazing. *thank you thank you amazon\",\n",
       " 'no charger and box lenovo seal opened',\n",
       " 'good one',\n",
       " 'product is in average quality.. but 4 gb version is little good performance... overall good .....camera also amazing...',\n",
       " \"it's awsome !👌👌👌\",\n",
       " 'awesome',\n",
       " 'wast of money third class amazon customer support',\n",
       " 'good mobile & good service amazon',\n",
       " 'i accept my phone but the ear fon lead is not available in the box',\n",
       " \"low light cameras are low quality.the headphone does not exist too. i think it 's good for me\",\n",
       " \"first phone i got was a one with manufacturing defect with camera..bt this phone is a beast and i got it replaced and now it's just perfect\",\n",
       " \"its not even 5 months since i bought this product & i'm facing issues with battery. even after charging for 100% in the morning it reduces to 30-20% without using extensively & phone heats-up and get hang\",\n",
       " \"cast screen solution please tell me it's not working\",\n",
       " 'well...... as expected....',\n",
       " \"on this price rang it's a fantastic handset specially camera 13+5 with flash\",\n",
       " 'mobile is good .. turbo charger actually is not fastly charge it......rear camera depth mode not properly focus to object...front camera is awesome .. performance of mobile outstanding... battery backup very good ..',\n",
       " 'where i get orignal data cableservice center give me local cabledont give me orignal lenovo k8 note 15w charger supported heavy cable',\n",
       " 'seal was open.',\n",
       " \"battery life is very upsetting.... doesn't even last half a day..... took the phone to lenovo service center.\",\n",
       " 'very nice looking phone.. nice build quality... awesome product ... in this price range it is a best phone... nice bettory life and fast charging... it has all specifications ... dual camera... nice fingerprint scanner... awesome work with 4gb/64gb combination... realy value for money...',\n",
       " 'battery backup is not good as compare mi note 5',\n",
       " 'a very worst product.. phone system has be updated number of times but it still demanding for systems update. also not a single app is running properly and automatically closed.i want to return this product..please help me amazon..',\n",
       " 'looks wise goodfor battery 3.4for camera- 2cheap camera quality.,........i recommend to buy redmi phonewaste of money to buy lenovo phone...',\n",
       " 'heating issue and battery drains very fast... night mode camera is poor',\n",
       " 'good. worth for the money. good battery backup. both rear and front camera are good.',\n",
       " 'phone is very amazing for usage.but battery is not enough.battery details given are fake.one fully charged battery ,will last for only 5hours',\n",
       " 'i got disgusting mobile phone....out of 2 speakers only one is working.....pls help....',\n",
       " 'i love it....',\n",
       " 'supar mobile lenovo k8 note i like you',\n",
       " \"it's ok product\",\n",
       " 'nice',\n",
       " 'its a good phone......best for game lovers',\n",
       " \"awesome phone, working very smoothly, go for the venom black color as it looks more stylish than the gold one. the battery back up of the phone is great. camera is far too awesome. the screen itself is a masterpiece very sleek. no heating problem so far.best phone in the range.you won't regret buying it. 😊\",\n",
       " \"phone is good but there are no headset provided with it and also there is no screen guard comes with it.this phone's battery capacity is 4000mah but it doesn't look like this because it hardly run for a whole day.\",\n",
       " 'really satisfied with 3-4 days of use..battery life is good..stock android is just flawless..simple n smooththanks lenovo :)',\n",
       " 'never by this phone',\n",
       " 'battery performance medium.camera medium.',\n",
       " 'good phone but not excellent.',\n",
       " 'its a really nice phone and camera is very nice',\n",
       " 'awesome phone and service',\n",
       " \"i have purchased 3 lenovo mobile in past 1 year. but lenovo quality going to decreasing day by day. recently i have purchased new lenovo k8 note on 8 feb 2018 and its start over heating after 20 days. and now its battery start drains quicker. now my mobile is switch off and i relay don't want to use it again even i will never use lenovo mobile again. my rating is -5 for this product.\",\n",
       " 'for someone',\n",
       " 'almost a average phone , the dual rear camera is not so good . suggested not to buy this in 2017 end and in 2018 . go for better redmi or another brands .',\n",
       " \"super mobile good product n sounds also so good charge stand by for 2 days... camera is super... more than 3 mths i'm using tis mobile lovely mobile from lenovo n best price from amazon... so thankful for such good product for amazon... planning to shop more n more from amazon oly... ❤️😄😍\",\n",
       " 'good phone. using it from past 3 weeks. no issues. worth the money. go for it blindfolded. dont worry about the helios processor, it is good and no heating issues noticed while gaming.',\n",
       " 'excellent...',\n",
       " 'nice phone',\n",
       " 'value for money..',\n",
       " 'battery drain issue after oreo update. charging time 5 to 6 hours . drain time 3 to 4 hours .worst customer support',\n",
       " \"gorilla 3 just a name only. brought this phone on march 2018 and screen didn't last 4 months also got cracked after falling from few meters.can anyone please give me the link for original genuine screen replacement lcd folder with the same curve and display brightness.\",\n",
       " 'supar phone',\n",
       " \"to begin with, considering the price range i never had lot of expectations from this phone. now that i have received it and used it for over 24 hours.. i would rate my experience as good!the touch of the phone is very good, soft and feels premium.battery life is good however it does not show battery percentage on the main screen.camera comes under average performance. the depth mode doesn't really serves the purpose here. honor 6x has better camera than k8performance of the phone is good.so overall, this is a good phone and when it comes to camera it's closest rival- honor 6x takes the lead.\",\n",
       " 'its been only 1 month and it started giving trouble....its overheating and taking more hours for charging and giving less battery backup',\n",
       " 'mobile is very good but it has heating issue..',\n",
       " 'screen is not antiscratchscratch occurs in my mobile when it fall downbad gorilla glassscreen quality is not good',\n",
       " 'worst battery backup, comes for only 6 hrs. depth focussing camera is not effective as expected. other features are good.',\n",
       " 'nice mobile cpu is very best. i love it.',\n",
       " \"lenovo hyped this phone for it's dual rear camera and a deca core mediatek processor and believe me these are the most worst things in this phone.camera - the dual rear camera is of no use, it gives a fake bokeh effect. in depth enabled mode the camera struggles to focus. you will find the edges of the object are blurred along with the background. without depth enabled mode both front and back cameras are just average.processor & battery - the mediatek helio x23 processor is good in performance but since it is clocked at 2.3 ghz, the gets heated even on normal uses or while while charging. it aslo consumes the battery very fast, the 4000 mah battery will hardly last for 1 day on normal uses.sound clarity - nice sound clarity on speaker as well as earphone. thanks to dolby atmos.display - screen clarity is good.ui - its a user choice, i am not a stock android fan as it lacks many features comes with custom roms like miui. otherwise there is no problems with ui, it runs pretty smooth.final verdict - its just a average phone, there are many other good options available in market at same price point. if you are camera lover and want a good camera phone then go for honor 6x, if you want good performance then go for redmi note 4 and if you want good performance with stock android then buy a moto g5+\",\n",
       " 'very poor graphics',\n",
       " 'user friendly',\n",
       " 'bekar ha .....mat lo',\n",
       " 'good product',\n",
       " 'received phone but no headphone inside the pack although in limited warranty booklet there is a warranty of 3 months for earphone',\n",
       " 'phone is not good. bettery and charging problem occurred after 3 to 4 month. no response from service center.',\n",
       " \"i'm security fingerprint and pattern no working charging very slow\",\n",
       " 'great phone with nice specs. till now had no problems.',\n",
       " 'good product',\n",
       " 'charging problem & camera mistake',\n",
       " 'worst product poor quality camera, battery draining fast and over heating on simple use',\n",
       " 'charger not working... mobile is fine..amazon service very bad...',\n",
       " 'perfect selfie phone',\n",
       " \"it gets very hot while using. i was using lenovo k4 for last one year and was more satisfied with that rather this one @ 13999. main drawback of this phone arebeautiful_ cast (screen mirror) doesn't work. bluetooth is also disturbing. touch screen is not as sensitive as it should be with 4gb ram and 64 gb internal memory with 10 core processer. display got broken very early with in two months of use. it's very normal and not as strong as k4. hand grip is not good. voice clarity not good and dolby sound is just normal and speakers are very normal and sound is low. k4 was much better in this regard. call logs and call recording another big drawback of this phone. i will not recommend this phone for purchase even @ the cost of 10k.\",\n",
       " 'not too good',\n",
       " 'all good but fingerprint sensor not working sometime..',\n",
       " \"getting heat up very soon not satisfactory.while you will try to return,it will tell somany steps.but you can't return.and from last months order till now no return of money back of sbi card.\",\n",
       " 'good but not best',\n",
       " 'battery drains and earphone connector issue',\n",
       " 'nice mobile',\n",
       " 'phone is very heavy and camera is not good not even equal to 8mp. better go for honor 6x instead of this.',\n",
       " 'excellent and superb phone.',\n",
       " 'superb product. few of the feature are awesome. duel camera, front 13mp camera, back and front flash, dedicated music button, dedicated memory card slot, free transparent case and split window for multitasking. these are some feature i like the product in my budget.',\n",
       " 'this is a awesome phone.really love it.',\n",
       " 'battery get draining very fast.... please do the needfull',\n",
       " 'phone is nice working .best phone by amazon in this range .in the box 2 piece turbo charger and 1 usb cable but i receive only 1 turbo charger in the box..i got phone 1 usb cable and 1 turbo charger..but not receive 2 turbo charger..',\n",
       " \"i got a repacked product. i took it to service centre to check the warranty. the warranty is valid till dec2018 where as i bought the product only on 27april2018. also, its heating and battery doesn't last a day. the dolby atmos and music key, notification led is good which i will miss but the seller should be good. i spoke to amazon and returned the product for refund.consider nokia 6 which has dolby atmos.\",\n",
       " 'its good but not that much good.after 7 months its getting problem in phone. stopped getting charged.',\n",
       " 'i like but heating problem',\n",
       " 'hard ware button, stopped suddenly, using soft button as of now',\n",
       " '1.) touch is tacky and have very slow response2.) no head set/earphone supplied with this phone. one may ten to overlook this point in excitement of other specification being offered. there are better alternatives available in same price. a phone works in synergy with box packed items and if i have to buy a headphone separately, its a big no for this product.',\n",
       " 'good',\n",
       " \"pathetic product from amazon.too much heating with phone and low grade performance.don't buy it.\",\n",
       " 'not working properly navigation button problemkeyboard opening problem',\n",
       " 'low price best mobile i like it',\n",
       " \"worst product i have received ever from amazon. it is a completely defective. accessing data/internet is a nightmare. don't buy this product. it is pathetic that amazon did not allow me to return this product giving some absurd excuses. never buy this product\",\n",
       " 'very bad experience',\n",
       " 'its an amazing experience with lenevo k8 note...no camera problemno heating problemno charging problemgood sound.. good call quality.. good picture quality',\n",
       " 'after oreo update this mobile perfomance is really bad means no one can even imagine how bad it is workinv and lenovo is still not taking action. i am repenting after update',\n",
       " 'the battery issue is the biggest corn and its lags most of the time i am not happy with this product.',\n",
       " 'nice phonegreat speed',\n",
       " 'fantastic mobile.pros* fantastic display* front and rear (13 mp) camera excellent*stock android provide no extra bugging* processor speed good* scratch proof screen.cons* lenovo update does not works properly. recently updated with android 8.0 now onwards mobile heated up and battery drains in just 2 hours of use without using call and 4g data. really sucks* mobile slightly heated up while gaming and long usage of data* rear camera (5mp) is the worst.* battery back about 8 hours* no 4k display so sometimes video quality poor.',\n",
       " 'very nice phone. picture quality is awesome. sound is very clear and best for music. once charged battery remains charged for 2 days. ilove this phone.',\n",
       " 'in description it mention for two turbo charger but i got only one charger.',\n",
       " 'no call recorder in this phone nor any other app of call recorder is performing in this phone.lenovo k3 note was having inbuild call recorder please upgrade software with call recorder.else this phone is good.',\n",
       " \"probably the best at it's price....\",\n",
       " 'camera is not working properly phone is losing battery very fast and heating when playing games',\n",
       " 'total waste of money. wrost product. wrost camera quality. fake 4000 mah battery. device is too heat during charging & net using. total battery drain within 4 to 5 hours.',\n",
       " 'worst phone getting heat like anything and battery performance is worst.',\n",
       " 'not worth. many better options available in same price band. model not supported by airtel for 4g apn.',\n",
       " 'i am not able to download invoice copy',\n",
       " 'phone is very good but camera is average not as i expected',\n",
       " 'very fast heating phone. just installed app using wifi for 2 hrs get heat. we can prepare omlet in that heat. heat o heat. otherwise well and good compare to other phones. please ask to give another software update for this heating issue. fear if it ll burst in this heat.',\n",
       " 'nice with 4000 mh but camera quality of dslr mode is not so good but all configuration is well .... good',\n",
       " 'quite disappointed with the product. hence returned as there were many flaws in the handset. hope lenovo rectifies them.',\n",
       " 'amazing camera excellent pixel',\n",
       " \"this phone is not good condition..its take a very long time to full it's battery like 6 to 7 hours, turbo charger is not working..battery backup is not good...it's heating a lot... over heat...\",\n",
       " 'good battery life, nic look',\n",
       " 'very nice phone',\n",
       " 'worst waste of money totaly',\n",
       " 'worst product got a defective piece, even the replacement piece was defective.',\n",
       " 'good product, camera quality and sound quality is quite good. overall the product is value for money in this range. i have purchased 2 nos.',\n",
       " 'battery back-up is very very poor..',\n",
       " 'very nice',\n",
       " 'no satisfactory',\n",
       " 'though overall phone is good but there some serious issue with my phone it takes 10 hrs to charge.',\n",
       " 'good',\n",
       " 'nice phone in this range. camera quality is very good, battery backup is excellent.',\n",
       " 'the mobile was awesome and the pics which are captured are superb..... but one drawback is it gets slightly heated while charging',\n",
       " \"bad camera quality back is 13+5mp bt not clear and in my phone 1-2 very nero dot in screen ,i think it's manufacturing mistake\",\n",
       " 'suoerrr',\n",
       " 'bill',\n",
       " 'very nice',\n",
       " 'i upgraded from k3 note to k8 note but nothing seems best apart from memory as compared to k3 note. camera very poor quality. not advised to waste money in the phone.',\n",
       " 'great phone',\n",
       " \"it's lagging and doesn't work like a decacore processor snapdragon might be good\",\n",
       " 'good',\n",
       " 'very nice. i am complete satisfied.',\n",
       " 'good mobile',\n",
       " 'very good product .performance is best for gamingbarry backup also superboverall performance is goodthanks amazon and lenovo',\n",
       " \"here are the cons of this phone1. too heavy (180gms)2.heats up while playing games3. lags while gaming4. rear camera isn't that good (whitish images)5. volume buttons are made up of plastic6.big bezels covers lot of space7. battery drains faster\",\n",
       " 'phone is very heating... otherwise ok... delivery very fast....',\n",
       " 'nice',\n",
       " 'not satisfied, as the phone is getting heated very quickly not to mention just for few minutes of browsing.also the battery is not like a 4000mah which was also such a disappointment.other than that the phone packs quite a good specs.storage and speed is very good.',\n",
       " 'very poor ram.dual camera feature is like fake feature.i like speed and other features (except ram and secondary 5 mp camera)',\n",
       " 'one speaker not working',\n",
       " 'good product osm looking',\n",
       " 'best deals',\n",
       " 'amazing phone and true killer of redmi note4',\n",
       " 'nice sound effectsnice camera at this costnew lookbut the only problem i facing is battery ......overall good phone at this cost....my rating --- 4.2',\n",
       " 'mobile performance very good',\n",
       " 'in low light the camera performance is very poor.. battery draining very fast.. it takes much time to focus.. and depth capture not working properly...',\n",
       " 'one of the best phone in the market with an excellent affordable price..the features are excellent and you get everything you want under a cheap price.',\n",
       " 'lenovo mobile ones network problem comes total motherboard change.',\n",
       " 'the battery drain is absolutely horrible. even while not using the phone the battery drains like crazy.i tried to return the phone only to have the amazon customer service run some kind of diagnostic on it and declare that the battery is fine essentially turning me into a liar.',\n",
       " 'not at all good. antenna is very poor. not receiving the signal properly. missed many calls. besides, cameras are not of good quality. so returned the item.',\n",
       " 'very good and powerful phone.',\n",
       " \"everything is fine except.....1- notification light didn't blink when msg and miss call arrived only blink when text msg arrived2- heating issue,3- turbo charger is not like turbo its look like normal 2 amp. charger..4- battery draning fastly5- camera lence coverd with dust after few days use...\",\n",
       " 'got 3 updates from lenovo within 1month. so all problems will solve. i will give full detail after few days later. till now mobile is ok. camera superb.',\n",
       " \"it's a great phone so far !! jack of all trades !!\",\n",
       " 'i would like to replace this as it is not meeting my expectations',\n",
       " 'wifi connection problems and battery backup problem',\n",
       " 'loved it',\n",
       " 'not satisfied',\n",
       " 'hoid for the amount. has latest features but not working properly. battery is getting heat while using download/ apps. as well charging. chrger is not turbo charger. it takes around 5 hrs to full charge. display & speaker are good.',\n",
       " 'amazing phone',\n",
       " 'good product',\n",
       " 'not good battery drains very fast',\n",
       " 'best mobile , camera good',\n",
       " 'it is a worst phone.explanation:-1) there is signal issue with this phone. ever time it is searching and showing low signal.2) due to signal searching battery consumption very high.no other problem.i suggest do go for k8 note.',\n",
       " 'not good',\n",
       " 'this is my 3rd lenovo phone, not worth the money though:1. poor camera quality - though its a dual camera..2. little lagging in the games even though its deca core with 4gb ramthe only plus is that it is not a hybrid sim',\n",
       " \"inspite of visit 7 times to service center, still the problem is not resolved. don't buy this phone. waste of money. the phone couldn't run properly just 1 year. service center & phone service employees will gave u lame excuses and tell u to wait#worstphone#shamelenovo\",\n",
       " 'configruation is gr8, but ui is very poor at least somethings could have been added to make it user friendly, ultimate power saver and many other basic options are missing. it heats up while charging and customization options are totally zero, i hope maybe if they give oreo update they add some features, hardware is ultimate but what its worth without a proper software utilizing it. please add some features, or make it open for us to use cyanogenmod and there will not be any warrenty void issue.',\n",
       " 'good phone',\n",
       " 'best phone i ever used',\n",
       " 'excellent',\n",
       " \"in 12000 it is a great phone some heat up issues and ram management is poor it's gpu performance is slightly lower than adreno gpu in 64 gb storage i get almost 51 gb camera performance and ram management may be improve in software updates battery lasts about 1 day for heavy users.some bugs in ui .in 24 nov i simply using it and for 30 to 40 minutes it completely stop and after 1 hour it recovered.so these are my opinion regarding this phone.i bought it on sell for 12000 (4 gb ram 64 gb internal storage).so it is a decent phone for my point of view.thank you\",\n",
       " 'pls dont buy batteryis heating a lot wrost phone from lenovo.',\n",
       " 'worst product ever brought.....has too many cons:1)it claims rapid charging but is the slowest i have ever experienced.2)claims dolby atmos sound but is not loud enough.....the sound of other mobiles are better than this.3)heating issues.so the features were not as expectedp.s.-my neighbour bought the same phone and is not satisfied with his purchase.so i recommend vivo,redmi for people looking out for phones in budget and definitely one plus for those looking out for performance...... really disappointed by lenovo.',\n",
       " 'not attacheing headphone and their is issu about sound system ring tone not to be ring properly',\n",
       " 'its good but looking too big',\n",
       " \"never buy this phone.you will feel bad by seeing the phone's1.camera quality2.turbo discharging battery3.earphone jack (not even fitting and one side is not working with my brand new earphone)\",\n",
       " 'discharged with in 6 hours with out playings games, browsing internet',\n",
       " 'mob. is so good for handling and every think, but i received foulty piece, mob getting heat n battery rapidly down, but as discussed with technical person, agreed for this issue and assure for replace the mob, i hope, i will receive my replaced new phone as soon as possible.after receiving new mob i will check...',\n",
       " \"audio output from headphones is very low and bad quality. please don't buy if you listen to a lot of music on headphones\",\n",
       " 'everything is fine but it is getting heated after some time of baking.this is the main con.',\n",
       " 'average phone.it has dual cam with deep mode but not working properly.it is same as normal cam.',\n",
       " 'faltu baker phonekoi bhi mat lo aur service to kuch aur hi level ka hai pura akdom ghatiya',\n",
       " 'just good handset, bulky and stupid design.',\n",
       " \"it's amazing mbl camera was so nice..it's really good phone...\",\n",
       " 'display quality is not good...',\n",
       " 'the battery charging is taking a lot of time.....not up to expected',\n",
       " 'charger stopped working in just 1 month?but it before 3 months.',\n",
       " \"it's good phone.\",\n",
       " 'facing network issue with this phone.i got the instumet which had an issue ... but amazon is not ready to help... i lost my money',\n",
       " 'mobile is very nice but he is charging is very deley 1. hr 20 %',\n",
       " 'best features. camera best but flash poor. battery backup good. fast charging. display quality too good. sound quality good.',\n",
       " 'till now i used this last two days but not upto mark. getting heated. charging does not look like turbo. and also few application are getting hang on few occasions .i wish to return the product after extensive use of application and games. please return this and refund the money',\n",
       " 'excellent',\n",
       " 'required head phone and screen card',\n",
       " 'hotport not properly',\n",
       " 'slow charging. both camera not support ata a time.',\n",
       " 'very good set',\n",
       " \"worst product which is poor at signal strength of any network. if user uses jio 4g can't get calls if phone in idle for 5 mins. internal memory to external memory file transfers and vice-versa taking too much time. fully disappointed by buying it. lenovo should take corrective action and should withdraw all sold phones.\",\n",
       " 'working is super',\n",
       " 'excellent mobile device !! works superbly',\n",
       " \"i using this phone camera is very poor , and no updation this lenovo k8 note camera features very very bad i am pricing this phone is 5000 because this phone wrost phone.fetures is wrost no upadatons overall no good....very bad but this mobile is 13999.... friends don't buy this product that my suggestion...but friends battery backup is very good...\",\n",
       " 'good phone and good camera too',\n",
       " \"it's a worst experience for me on amazon. i had ordered this phone which was creating problem. then i got new phone which is creating problem after 15 days. the bill i got was so blurred that service centre people refuse to accept it. pls share me the bill for the device in proper manner so that i could get services from lennovo centre.\",\n",
       " 'having a problem with bluetooth',\n",
       " \"don't buy it. wrost phone and there is no service support at all.if you accidentally broke you screen it will cost you around 8000rs.there is also second sim sms issue there.\",\n",
       " \"turbocharger is not working & heating problem......faulty piece & don't buy this product\",\n",
       " 'perfect one....',\n",
       " 'grt phone good service from amazon',\n",
       " \"it's heated everytime i use it.\",\n",
       " 'not support in call recording app',\n",
       " 'lenovo k8 note is very goodit is very advanced',\n",
       " \"don't waste your money and feel after buying this phone. i suggest you everyone do not buy this.low battery backup and phone is hanging while using internet either through data or wi-fi connections.camera is also not better as lenovo officials said but build quality is good and very attractive.\",\n",
       " 'awesome',\n",
       " 'thankx lenovo for this amazing phone.',\n",
       " 'battery not getting good charged properly. poor quality. suddenly mobile screen will become black without any display',\n",
       " 'good',\n",
       " 'best product handy to use with good performance after updates',\n",
       " 'awesome phone.. smooth performance.. camera is also good... but battery could be better... all over nice phone.. really a beast..',\n",
       " 'my email voice bill',\n",
       " 'nice phn',\n",
       " 'charger is so slow charging to phone so please can you replace the chargerthe charger take 7to 8 hours full charging to phone',\n",
       " 'very superb lenovo k8 but please impore the camera setting and plz gives the updates.......and battery backup awesome',\n",
       " \"mobile goes to very heat, not user friendly, like no speed dial, no screenshot, less dial settings, fast discharging, can't send via bluetooth, etc...i want to return or i should sell this mobile. i am disappointed. just only worth for cost.\",\n",
       " 'very good prdt',\n",
       " 'camera quality was not up to given standardsvery impressed with fast charging as well as battery backup.wothy mobile at this price',\n",
       " \"not the beast ... camera's depth sensing is not that good though very good selfie camera ..chipset is way powerfull... battery drains fast but after a software update it's ok now\",\n",
       " \"worst product....screen cast won't work which is a basic feature\",\n",
       " 'yes',\n",
       " 'delicate. screen was broken and cost rs.4500 waste of money',\n",
       " 'i purchased this phone , but i recommend to buy mi a1 or honor 6x in this price segment .. lenovo is lazy in terms of providing updates .phone have serious bugs in camera depth mode ,slow motion video is pathetic .. you will never gona use it ,front camera gives soft pictures,background app crashes ,flicking screen is there (not much),these bugs could be cured by throwing an update ,. but lenovo will not do it , because if they made this phone perfect who will gona buy there \"moto\" phones !!phone is good in terms of design and screen , it feels good in hand, stock android is a bonus.',\n",
       " 'worth to use online usage',\n",
       " \"as soon as i bought the mobile from the courier person, i eagerly transferred songs from my older mobile and started the google music player in lenovo k8 note to experience it's fantastic dolby atmos surround sound which i had experienced in lenovo k4 note. but i was very much disappointed that lenovo k8 note doesn't provide dolby atmos surround sound at all.dear manufacturers, kindly take your previous edition lenovo k4 note and check it's sound and compare it with k8. it is worst as your competitor's dolby atmos. don't replicate those duplicate dolby atmos. come back again with dual front facing speakers as lenovo k4 which has excellent dolby atmos experience. and even, using top branded headphone, did not give much difference between 'with dolby atmos' and 'without dolby atmos' option.the main reason why i bought :lenovo k8 note is the lenovo's real dolby atmos sound (as i thought before buying), otherwise your competiror has all other specifications as k8. but even lenovo started making false promise (like your competitor) that the mobile has 'dolby atmos' by just enabling some equilizer options like just we had in 2000's mobiles, but the output is 'null'.\",\n",
       " 'good mobile for the price',\n",
       " 'till date excellent product',\n",
       " 'waste mobile no signal in mobile',\n",
       " 'worst product supplied by amazon trader. received my new phone today dated 05/09/2017, after installing google services and my account it immediately showing blur screen and not a single button works. i have made 2-3 videos in my mobile which i definitely going to post on social media sites to aware people for not to buy lenove k8 note.',\n",
       " 'worst phone..batry bckup is worst....suddenly while playing games it stops working from the first day i have gone to its service center they told that we have to update its software..they called me at 2 pm but i have gone to 4 pm to them but then were tlng it will take 1 more hour and after 1 hour they told that you will get your handset tommorow....after soft update also this problem continued..and now i m returning it..call quality is worst...my opposite side person unables to hear my voice clearly....and headphone jack also not working...when it just gets touched by my finger sound stops ar video get paused.',\n",
       " 'battery back problem',\n",
       " \"nothing extraordinary to call it a killer note. camera which lenovo has boasted of, is poor like all previous lenovo phones, the dual camera setup is just a gimmick and takes ordinary quality photos. dolby atmos sound output is of average quality, it was better on earlier lenovo's. the headset volume while on call is very low compared to previous lenovo's, redmi & mi, samsung's. making k8 note pure android experience, lenovo has robbed users of some good features available on the previous lenovo's. hence the software is a big let down, lenovo should have stripped down the vibe ui to near stock experience instead of dumping it. also, a phone cant be called a killer if it doesnt have the basic function of backlit keys at the bottom. software experience is not smooth as it should be considering the ram and motherboard and coupled with stock android.in my opinion, k8 note is nothing of what it was projected to be and the previous lenovo's were slightly better minus the full hd displays on them.\",\n",
       " 'i have faced phone ringing issue!! i need to repair it!!!',\n",
       " 'good',\n",
       " \"received handset on 22nd & still havn't start using it due to some personal problemslet me start using it then only i will b able to provide my reviewthnks\",\n",
       " 'super',\n",
       " 'worst phone. battery heating issues. slowed down drastically. better not to go with this company for purchase of the mobile.',\n",
       " 'waste of money',\n",
       " 'not a good mobile',\n",
       " 'very nice phone.camera is very good.no heating issue.very satisfied.',\n",
       " 'hi all, i have bought new lenovo k8 note. frankly speaking lenovo making fool to customer through this product. just for marketing they have given higher features in this price(like 4gb ram, 64gb rom, dual camera) but all are of no use. if you buy some other company with lesser feature compared to this you will get much better experience. the most stupid thing lenovo done is very basic features they have removed like led notification is there but it never works except during charging, no call recording, no shortcuts for screen shot. i got alert saying low. battery and 15% was there then automatically switched off immediately.these feedback by just exploring little, let me explore more than i ll share with more feedback',\n",
       " 'features at this price are not regrettable but the price slashed by 1000 in just one month made me think about the brand as a wholeso. all said, it is a decent deal at this price if you are not concerned about the camera quality.',\n",
       " 'good phone in this price.',\n",
       " 'product is good nice packing without earphones',\n",
       " 'battary drained fastits look like ordinary charger it i s taking 2 and half hour full chargeweight is more compare todays phone',\n",
       " \"very worst product don't buy k 8 while charging it getting highly heat pls pls don't buy\",\n",
       " 'good product',\n",
       " 'superb configuration in 14k',\n",
       " 'sir kindly provide my lenovo k8 note handfree .there is no handfree in box',\n",
       " 'excellent, fabulous smart phone.no lag, no heating, no battery problems.',\n",
       " 'it was osm ...',\n",
       " 'awesome',\n",
       " 'worst experience after 20-22 days of use ....battrey backup was low like 3000mah and charging speed getting slow ... i want my money back 😑',\n",
       " 'very bad i just wasted my money',\n",
       " \"i'm so sad because i'm not satisfy about this phone. 1st from day first network problem not sporting 4g sim 4g network. i'm using airtel sim i never got full network in this phone. i changed slot 1 slot 2 but always week network. same sim when i'm using in my other phone oppo a57 it's working good. getting heat while charging. you can see in pictures below attached. in second slot also i'm using airtel but when i start switch on internet my network lost automatically. i seen youtube lenovo customer reviews vedio with same problem. now i'm so sad because i waisted my money with this phone. redmi is much better then lenovo in this price. in future i never will try to buy lenovo /moto .im very disappointed .\",\n",
       " 'so far no issues with performance .best phone in this budget.',\n",
       " 'super camera and best performance',\n",
       " 'the phone has some problem with outgoing calls as the recipient is not able to hear clearly. memory and speed is good. big phone to keep in pocket.',\n",
       " 'mera bill kho gya hai please mere email par bill bhej dijiye',\n",
       " 'good mobile but some options are missing like infrad ray i love this mobile',\n",
       " 'battery backup is not better',\n",
       " \"worst product. don't go for it. most of the functions are not working. even the earphone 3.5 jack port is not functioning.\",\n",
       " \"i'm using this set for last 1 month, till date is working properly, but regarding the speed it's not the app too fast as compare to first week of the purchase.only the bad thing in this set, is camera auto focusing & stablity is not good.\",\n",
       " 'this product is awesome',\n",
       " \"very bad phone. it's take long time to charge and no battery backup as it have 4000 mah. very bad. no usable of power charger . take 7 to 8 hour for full charge the battery. when i charge phone is hitting .\",\n",
       " 'good',\n",
       " \"pls don't buy\",\n",
       " 'great no problem satisfied',\n",
       " 'wow so amazing phone',\n",
       " 'the lenovo k8 note is really a killer phone if you are searching for a smart phone that is totally balanced from all prospects then this is your phone.😍but why lenovo why you used mediatek😭',\n",
       " \"very bad experience with the product and also with the amazon policy. the mobile is getting very hot while charging, talking on phone, listening of music. don't trust on lenovo k8 note while purchasing online.\",\n",
       " \"don't buy this phone at all its batteries draining very fast and camera's qualities very poor on return request phone has been tested through their software showing everything ok just check the credentials that software poor rank given by all.see the photos and qualities of 13 mega pixels are no worth of 5 mega pixels.lenovo killer note 8 poor than lenovo vibe 5.\",\n",
       " 'super mobile',\n",
       " \"don't take this phone,camera is not good as of 13 mp, specially front one is worst.heating problem is occurred during little bit heavy use like on playing game and video's.it is heated up drastically on calling.i want to return it but amazon refused to take it back.over all, not good it is.\",\n",
       " 'as per commitment not received idea data 122 gb',\n",
       " 'so so',\n",
       " 'good phone in this price',\n",
       " 'in this price segment, the most desirable phone for photoholics... awesome camera configurations...but heating problem is an issue that is to be considered. otherwise, marvellous one.',\n",
       " \"screen was broken.asked to replace the set but didn't get any positive resonde\",\n",
       " 'received with no issues and on time.',\n",
       " 'phone/charger not working properly please exchange my phone',\n",
       " \"lots of issues with lenovo k8 vibe. as there is network issue with this mobile. if you put same sim card in other mobile it works fine but call doesn't get connected in lenovo mobile\",\n",
       " \"it gets over heated during short usage plz don't go for it go for samsung or other product and it's performance is very good no lag in between usage works perfectly thanks\",\n",
       " 'great product.',\n",
       " 'do not buy this phone many features missing not at al worth to buy for that price',\n",
       " 'exlent',\n",
       " 'its very bad as said by some reviewers. sound exp was very poor camera qualiy is awful. hoping to get my return....',\n",
       " 'battery backup low,nd heating to much during net and charge',\n",
       " \"it's awesome\",\n",
       " 'it hangs and camera effect less',\n",
       " 'awesome phone.....very good experience',\n",
       " 'phone start up 10 mins only use.but phone over heat',\n",
       " 'phone is to good but heting',\n",
       " 'good mobile. i need invoice for that phone. kindly send my registered mail id.need urgent',\n",
       " 'lenovo k8 note (venom black, 4gb) with new system update where is the system update, we have to check the update, only os 7.1.1 is updated(naught) not oreo 8.1 . then why you are mentioning it as with system update.the purchase date of the mobile was 20/09/2017 and the warranty expires in 8 days (on 08/june/2018) when checked online on the lenovo product check (official lenovo warrenty check)',\n",
       " 'over all performance is good but phone is getting heated up when plugged into charging.. will suggest to go for redmi note 4 instead of lenovo k8...',\n",
       " \"- primary camera not worthy- cast screen not able to detect any smart tv's- screen sharing option not available- no parallel apps options- unable wifi connections though strong wifi- mobile data connection breaks for every minute- screenshot option is pathetic- many smart options which are available in budget phones are not available in this phone.- heating and hanging is another problem- could not able to find call recording options.looks to me most of problems can be resolved with appropriate updates and software enhancements so i will amend rating once lenovo address above issues, if lenovo not keen to address basic issues then you will get better options even in budget phones also.\",\n",
       " \"i thought i'll b getting earphones with the box but it's just a phone\",\n",
       " 'superbbb!!',\n",
       " 'excellent in all respect.',\n",
       " 'finger print scanner has stopped working',\n",
       " 'ok',\n",
       " 'from the very next day the finger print lock sensor of the handset stopped working.',\n",
       " 'network and battery heating prob',\n",
       " 'data cable of this product is not working',\n",
       " 'the product is not worth the money at all. the battery backup is very bad and phone keeps on restarting frequently. would like to get another product or refund.',\n",
       " 'this lenovo divice is overheated while charging and while mobile data turned on.',\n",
       " 'lenovo not give the task manager and camera is best but one speaker is not work. and cellular network is very good.',\n",
       " 'i use this phone i feel good',\n",
       " 'its deliver 1day prior to scheduled time which was nice. specification says its a volte supported phone but in reality its not. need to install a jio4gvoice if want to use jio sim in it for making and receiving calls. cant make or receive calls on jio network if connected to wifi which is pathetic. overall i am not happy due to all of these issues.',\n",
       " \"great phone, with the stock android it's the smoothest phone that i have used till date. the built quality is also descent and the front and rear cameras perform good. this phone is for heavy users like me . and the 4000 mah battery is good enough for a full day's work. if you are looking for a phone that is all rounder in this range, the k8 note is always a great option. one thing that i left out is the sound quality which is good being backed by dolby atmos . this 4gb ram varient is very good. although the 3gb ram varient has some issues . but this one is completely fine.\",\n",
       " 'very bad product from lenovo battery is overheating so much',\n",
       " 'i bought this phone in first sale. i inserted one of my two mobile sims & then started updating/downloading the application and then thought to insert the second sim. when i tried to do so, the sim slot was not opening at all. i have raised the return request but unable to do so as no one is able to remove the sim card, even mobile repairing shops.charging is not fast.dual camera is better than regular 13 mp.mobile is just ok.amazon team helped in refund process. happy with amazon but i may not buy this phone again.',\n",
       " \"lot's of issues, bo not buy this phone\",\n",
       " 'super',\n",
       " 'not so good.expected better product.the phone is little bit slow & battery is not that good.brought at high price.later price dropped.',\n",
       " \"overall satisfied, value for money no doubt in that. but battery performance is not up to mark. earlier was using panasonic eluga a2 with 4000 mah battery which will last whole day and will be about 34% -25% balance charge. but this one draining battery faster. overall it's good choice. turbo charger also not giving any speed to change fast. actually it's taking 1 hour to 1:30 hours to charge full\",\n",
       " \"lt's very awesome handset and features are excellent and specially it's easy to operate\",\n",
       " 'camera not capturing pictures,and the battery is like 2000 mah the mobile sucks waste of money expected alot from the lenovo but it failed',\n",
       " \"i am received the lenovo k8 note ,i am using this mobile eighteen days. the main problem is battery draining is very fast. battery is taking 4 hours to charge and getting drain in 6 hours. incoming calls not receiving at times even though full signal. it's consume very much memory. heating issue comes after some hour use. dual rear camera is not working. always hanging this phone,,,it's quality is too bad.not something good for buying.also amazon has a cheating policy now a days for return and refund. they are asking for some local app to check the phone. which doesn't have battery checking option.\",\n",
       " \"the games start to lag a little bit after playing for a hour and gets heated up (not expecting from new phone , don't know what happens when it gets old ) but phone have rigid body , phone ram fills up to 75% sometimes not so handy while gaming.......and finally stop decreasing it's cost it hurts us a lot😂😂\",\n",
       " 'phone is good...best in class..but battery is not much like 4000',\n",
       " 'with respect to price and features...this is a perfect smart phone that anyone can have it.',\n",
       " 'there is a heating issue in this device and finger print sensor does not work in 1st time........',\n",
       " \"i'd say it's a ok phone. heating up like a hell. otherwise it's a ok phone. if you're a gamer, i'd recommend not to buy this phone.\",\n",
       " 'jhakass',\n",
       " 'fully satisfied with the product. happy :)',\n",
       " 'turbo charger is not working. .well..or camera picture quality is worse ..very disappointing. ..',\n",
       " \"after using 10days writingit's awesome phone with powerfull battery,ram,dual camera everything k i'm happy with it\",\n",
       " \"i purchased lenovo k8 note on 26th september, it's working good for two months. suddenly problem arises, didn't understand what happened suddenly, phone getting discharged fastly and when i charge the phone it will take more time almost 6hrs to complete full charge and moreover phone is getting too heat while charging. it's not happened for first two months., but it's totally disappointed.is there any chances in getting exchange to the product\",\n",
       " 'waste of money',\n",
       " 'if you are looking for simple and sweet phone then go with this handset.. if you are a basic user like using normal whatsapp instagram nad few other apps in daily usage then it is good.... battery life is average. camera is also average..... you can say it is giving the performance for the price which you are paying.',\n",
       " 'nice phn',\n",
       " \"writing this review after eight months of using this phone, this phone is very good in it's build qualitysupereb! front 13 megapixel camera with quit powerful front flash. performance is very good i play a lot of games does not lag in gameing.cons- when talking about the cons of this product is that, the bokeh mode and the blur effect is not very good just average same goes to battey backup just a bit less not as good as mi phones on heavy usage you have to charge it again in the evening.\",\n",
       " 'bluetooth is not working properly with my speaker getting breaking sound most of the time',\n",
       " 'nice mobile but some network issues detected',\n",
       " 'volume keys not working volume auto matically going to zeo and going to silent mode,',\n",
       " \"dual camera didn't work100℅charging takes 4.5hoursturbo charge doesn't workwent to lenovo service centre ,they didn't solve my query .i want solution for this problem .\",\n",
       " 'very good phone ♥️',\n",
       " 'super',\n",
       " \"battery backup is not good. full charge lasts upto 8 hours medium utilization. camera quality is also not good. sometimes hangs and heating issue.don't buy at this price. go for mi a1. similar configuration at 14999.\",\n",
       " 'phone are regularly heat and his temperature is continue to over heat.video song is not clearly play.battery back up is very poor because phone are continue to heat in time of open mobile data and charging',\n",
       " 'good',\n",
       " 'dislikeenhanced 4g volte,lte mode are not showing,',\n",
       " 'the best product released by lenovowhich gives a excellent performance in gaming and multi tasking and the best feature in this phone is the split screen',\n",
       " 'excellent phone better than redmi note 4. it does heat up occasionally not every time and that too not that much. battery performance is i would say above average as it lasts almost 1 day with 4000 mah battery. performance is great. no complaints with the phone. loved it.',\n",
       " 'best phone in this price range( 10k) .. updated software removed all previous issue',\n",
       " 'good product.',\n",
       " \"camera is awesome with in builth editing give somewhat professional looking photos.battery is average drain at faster speed same as turbo charging (had high exception from battery using p1 )iphone style sim ejector is annoyingoverall performance is smooth like makan:@s smooth as f*#kcharger provided is not turbo it's regular\",\n",
       " 'not a good product heating problem n some softwear problem',\n",
       " 'battery still hitting when charging and fingerprint sensor hanging problem....!!!!',\n",
       " '*best phone * camera quality is very good',\n",
       " 'the charger of this product is not working... called amazon customer care but they are refusing to change it... what the hell is this ??',\n",
       " 'nice fone',\n",
       " 'i have not received the ear phones from the sealed box of lenovo',\n",
       " 'i am using it from past 8 months, worst phonecast like basic function is not working.',\n",
       " 'worst ever phone of my life,,,, dont purchase its horrible',\n",
       " 'this can be a good product if lenovo improves its depth camera, battery life and not so good network connectivity.otherwise cool product.turbo charging takes 2+ hrs to fully charge.depth camera looks like some sort of software tweak.',\n",
       " 'very poor battery. phone heats slot and take 2.5 hours to charge there is no turbo charging.',\n",
       " \"ummaah to bolby atmos. i love this device also due to stock android os. bass is very detailed. use 16 ohms earphones (sennheiser cx 300 ii or cx 180 only as they'll give enough loudness. i love its sound output. audio output is 3 times better than my iphone. motorola and lenovo are my permanent brands from now. i regret for returning my moto g6. people are fools who buy any other brand when it comes to android os. google should consider motorola phones as their flagship device.\",\n",
       " \"after 5 days of usage i find some issues in my lenovo k8 note. whenever i install a new app i can't find the app in my app list. when this happens i should restart my phone then only i can see the app in my app list.not only that whenever i use my share it and minimises it then i found some glitches on my lock screen and home screen also and this happen with asphalt 8 too.please tell me someone that why this happens to my lenovo k8 note and what should i do this.is there anyone to know about this please tell me...\",\n",
       " \"wast of giving 1 for mobile and also for amazon also not at all good battery performance hear the problem was battery and they are telling in ok good in the smart check there is no option about battery plz plz plz don't buy the mobile wast of money 14000 rs\",\n",
       " 'battery back up is not good, you have to charge minimum twice/thrice a day, yesterday i changed the battery from authorized service center, but the problem is still same.worst phone i have ever seen.',\n",
       " 'very good product',\n",
       " \"signal reception is bad. mobile data does not work well. as it's dual standby, only one sim can be used for data at once. if you have jio, either you can use it for data and other sim for calls or you have to switch to the other sim.turbo charging is fine.\",\n",
       " 'v v good',\n",
       " \"worst product. don't bye it not worth for 1 rupees. don't waste money\",\n",
       " 'awesome phone ,really fast loaded many apps still works smoothly,battery life is great but decreases rapidly if under 20%.not updated out of the box, has to be updated 5 to 6 times.',\n",
       " 'dislike',\n",
       " 'awesome phone ..........very smooth functioning handset.',\n",
       " \"really waste the screen is not including the gorilla glass it's lenovo waste item don't waste money it's better to prefer other phones in same budget..\",\n",
       " 'nice phone.',\n",
       " 'i have ordered k8 note it has come with transparent back cover.how come? it has fitted with mobile too. is this complementary?',\n",
       " 'nice mobile',\n",
       " 'nice product but late delivery by courier boy.',\n",
       " \"it doesn't get charge while it is on or some time get charge but very slowly around 6% per hour.soyou have to charge it 16 hours to get full charged.it get charge while it is switched off.it seems there is sone software problem in the mobile but lenovo is not resolving it.very much disappointed.this problem began when i updated the software.i am a regular user of lenovo but this time i am very much disappointed.\",\n",
       " 'absolutely nonsense. it is supposed to be splash proof but within 7 days rendered useless after i wet in rain.',\n",
       " 'good phone, very good delivery from amazon',\n",
       " \"very bad mobile from lenovo pls don't buy battery backup is worst turbocharger won't work at all hangs sometimes camera is very slow overall bad phone\",\n",
       " \"the battery backup sucksand the camera stops many times after continuous usage and if you want to use your camera again than you need to restart the phonethe flashlight is not good because it gives a yellow type color on picturesi have returned this itemnow i'm gonna buy tenor glet's give a try to that new companyanyways i was a very old user of lenovoi don't why but their battery backup sucksthe display is not good when comes to watching videoand bluetooth is not at all good after updating the second / third updatetheir is a huge of cons which cannot be tolerated!\",\n",
       " 'great mobile',\n",
       " 'thanks for your phone',\n",
       " 'evrything okk but camera quality and music quality not good like we expected',\n",
       " 'not like at all.battery backup is poor and dual camera setup is worst.navigation keys on bottom without back light is made it worst.',\n",
       " 'worst battery...i want to return the phone...',\n",
       " \"it's budget mobile k but average oly\",\n",
       " 'awesome phone by looks....and all d features are working good. camera is fabulous.happy to choose this phone....',\n",
       " 'nice',\n",
       " 'camera quality not good..',\n",
       " 'headphone is missing pleas cheak',\n",
       " 'issues:-1.screen cast or mirroring is not at all working..2. battery is getting heated up very fast.3. camera is not up to mark.4. phone is getting heated up even for less load.finally i returned this phone.',\n",
       " 'best mobile...',\n",
       " 'this mobile is too bad once you update i update my mobile then i face too much heating issue and mobile apps are not working and also there is battery drainage issue after oreo updation pathetic product by lenovo',\n",
       " 'ear phones not given',\n",
       " \"absolutely useless phone in this range. pls don't go for it. battery worst.\",\n",
       " 'nothing great in this phone except good battery life. phone heats a lot. function buttons at the bottom do not have backlight, this is a big issue if you know. sound is ok. size is too big.',\n",
       " \"it's really really good phone with small price. sound quality is very good. i had tried many brands in past but none has worked out well for me. thanks to amazon.\",\n",
       " 'product not soo good its ok. and in this product gives dual camera but use only one camera, main mobile over heat issue',\n",
       " 'heating issue..........',\n",
       " \"it's heats up in short time , for charging it's takes around 3 to 4 hour and worst part takes same time to drain without using it for whatsup , you tube,or gaming feels hot in hand. holding phone more than 10 to 15 min feels scary too as if it will gets burst . long charging time huge issue.\",\n",
       " \"i bought this phone on flash sell for rs13999. now it is in the price range below rs.12000. the reason is obvious. very poor battery back up. camera is below average. finger sensor is staggering to recognise. sometimes hanged to execute simple applications which ran smoothly in my earlier smart phone whose configurations are far below than this. i assure what they promised actually is a total failure. don't waste your valuable money into it. i doubt whether the company can rectify or upgrade the performance by software upgradation. the only positive think (?) is it's look and screen size. feeling sorry how amazon can promote this product with such vigorous advertisement.\",\n",
       " 'mobile is too bad and lot of network issue',\n",
       " 'good product with good packaging.',\n",
       " \"fake dual camera... depth mode is of no use. its just edits the pic and the produced pic feeld like badly edited... battery sucks... heating problem... no volte... jio sim won't work unless you use jio app. dual camera is fake... even when you place you finger in front of the 5mp camera, your phone will still take a blurred background pic which clearly says that the pics are edited and the 2nd 5mp camera is of no use.\",\n",
       " 'on offer this product is great.but redmi note 5 is a good competitor of k8 note.',\n",
       " 'battery is okay. picture & and sound qualities are awesome.worth every penny.',\n",
       " 'excelant',\n",
       " 'awesome phone at this price range.stock android is a bit annoying after using so many oem veraions. but as time elapses, you get used to it...',\n",
       " 'nice productsome 🔋 issue',\n",
       " 'though battery life rating is high, the cheap and slow mediatek processor lowers the battery capacity.',\n",
       " 'best in his category.',\n",
       " \"battery is very bad.turbo charger is very very slow.battery draining in just 4 hours.plz don't go for it.camera are poor\",\n",
       " \"plz do not purchase, as lenovo's stock android is having lot of issues and still lenovo has not taken any action to correct them. hardware wise it is nice but lacks updates\",\n",
       " 'phone getting overheating since the day 1',\n",
       " \"the mobile absolutely good for some of its unique features at this price.it had a dedicated sd card slot,front flash,extra music button and so on.... iam using this for a month and i'm fully satisfied. one point i like to add here is,other than fingerprint the face recognition works soo good and unlocks in less than 0.5 seconds . this phone had a very great user experience. thanks to lenovo.but one disadvantage is that it doesn't support screen cast to smart televisions and other devices.\",\n",
       " 'awesome and nice phone',\n",
       " 'really a #killer note, really a#killer camera, really a #killer performances hence a #killer note',\n",
       " 'mobile is awesome no any ssue found in mobile',\n",
       " 'quick, timely delivery by amazon. but battery back of phone not good, take lot of time to charge completely. also on off takes too much time.',\n",
       " 'nice phone and hardware',\n",
       " 'worst phone ever. within month overheating, slow charging, and software damn slow. i think there should be a check on what they write online to allure customers. never buy this',\n",
       " \"nice phone ,rear camera is average but taking good shots, performance awesome, no heating issue getting warm on normal use all over it's balanced smartphone.\",\n",
       " 'nice and super',\n",
       " 'very bed phone',\n",
       " 'value for money. this was good deal. i have baught this when this was released. even after the several month of use there is no issue .',\n",
       " 'awesome phone, in every manner, super fast processing, brilliant camera..go for it.. 👍',\n",
       " 'worst phone ever ever ever !!!!!!trust me dont buy this product .......',\n",
       " 'good phone',\n",
       " 'i ordered this phone and it showed that they would deliver me the latest version of android 8.0 oreo. they delivered me a old version and as well as the device was faulty. i showed this phone to the lenovo service center, they said that this device is faulty and suggested that we should return this back to amazon. i then contacted the amazon customer care service but they refused to take the device back as the device return period was over which is completely accepted by me but these guys cheated on me as they delivered me a faulty piece and refused to take the phone back. the phone does not catch the signal of the wifi even if the router is next to it. i also have two tablets of lenovo, they connect to wifi instantly from anywhere in the house, this was happening because of the old 7.1.1 noughat version so i went to the lenovo service center and upgraded it to a android 8.0 oreo but then the condition became even worse and it also stopped getting signal. i am not satisfied with my device and i want this faulty device to be taken back by amazon and return me my rs.11650. the amazon has cheated on me as the return back policy does not allow me to make a replacement of this device. i want amazon to tale back my device as soon as possible.',\n",
       " 'lot of mobiles and other items purchase this is first time i will write bad review for product improve i am not tell totaly waste this mobile some disappoint points i observe last three days.frequently restart mobile during large file or multi file selection copy or deleting.over heat issues observe on trasparent cover because mobile produce tomuch heat.cast screen not working',\n",
       " 'battery backup not so good',\n",
       " 'quality issue',\n",
       " 'wonderful phone at this cost.not much satisfied with camera quality...otherwise too fix.',\n",
       " 'excellent product and excellent service by amazon',\n",
       " 'music button is not working',\n",
       " \"i have bought this phone from offline store, next month in may it would be 1 year that i am using this phone. the phone is good, camera good in lighted areas, speed is good, battery is good but what has annoyed me the most is the temperature. you charge the phone, surf, use social media, play games, do whatever, it heats up so much that you won't be able to hold it. i play games, i use two usb fans, connected to my laptop, pointed at the back of the phone, and a damp cloth to keep playing. it heats up with in 5 minutes of playing any game. when i charge, i keep the fan running. for just this one issue all the plus points of this phone goes down the drain. in would not buy another lenovo and would not recommend buying k8 note.\",\n",
       " 'extremely disappointedcharging time mire than 3 hours and battery drain with in 3 hours, without heavy use..',\n",
       " 'good one but galary app is not inbuilt n earplug must be given with mobile phone.',\n",
       " 'greetings, on 18th january 2018, there was a software update prompt which came on my mobile, i had downloaded and kept the installation for next day. on 19th january 2018 late evening while the software update was getting installed, the mobile conked off and ever since i have been unable to reboot the mobile.looks like this has been the same issue faced by other users for this model.let us know if you need the imei number for the handset.currently i am travelling and in dhaka, will be returning to chennai during the first week of february 2018.i would like a refund or an alternate mobile for the same price.thankssriram',\n",
       " 'battary problem.over heating & earlier down problem.wht can i do??',\n",
       " 'very worst experience...got empty box',\n",
       " 'bedluk my life this product',\n",
       " \"nice phone. quick and fast n light to operate, doesn't drag it's way from one app to another. quite satisfied, very well fit n finish too. battery decent life.cons. it's a tad big for my taste, but decent. it does not get a proper screen guard, as it's little curved from sides, screen guards don't stick from corners or sides. ram although 4 gb on paper, actually it's only 3.7, n out of it too 3 pre occupied mostly.decent enough 100% worth your money, only competition i can think of is redmi note 5\",\n",
       " 'call recoder application is not working properly',\n",
       " 'excellent phone love it...',\n",
       " 'dont buy this product. very worst camera',\n",
       " 'this mobile phone is good in this range from other mobile phones. camera is really awesome and performance is much better than other phone.',\n",
       " 'poor',\n",
       " 'mobile is hiting to calling and charging',\n",
       " 'phone is very goodbut 1week after the phone charged slowly and fastly discharged',\n",
       " 'how can i return the product?not happy with product',\n",
       " 'im using this phone from last 3 days based on my experience i can say that this phone is not worth of 14k phone is too bulky no premium look. both front and back camera is ok but 2 much of waist of space in home keys. i have observed heating also while playing youtube videos. in this price range there r good phones available in market like lg q6 and nokia 6 feeling my hard earned money waisted. i got exicited by looking into configuration but after receiving phone im too disappointed ,dont feel like using hand .can give 2 star only for new processor n battrey.',\n",
       " 'way too big and too heavy - more useful as a weapon or a hammer',\n",
       " 'good quality and good looking',\n",
       " 'no voice recorder',\n",
       " 'i expected backlight on touch buttons which is absent rest is gud',\n",
       " 'why the hell there is no gallery before i was using k4 note it was much handy and has super function in it.',\n",
       " 'very bad hand, internet not working in this set. pathetic service.',\n",
       " \"camera is too damn poor.no volte. no earphones.didn't worth the money paid for.\",\n",
       " 'good. worth the money',\n",
       " 'my data cable is not working..i bought this phone in the month of september, from where i can get replacement..?',\n",
       " 'good phone. worthfull',\n",
       " 'there is mentioned as turbo charger but there is not turbo charger in it.',\n",
       " 'so nice handset for lenovo k8 note',\n",
       " 'vary bad',\n",
       " 'mobile is heating and quickly dischargingno tv screen share was allowing',\n",
       " 'excellent',\n",
       " 'one of the best...',\n",
       " 'mobile getting heated.. battery not stable..phone hanging much...',\n",
       " 'one of the best smart phone in cheap price....',\n",
       " 'not gorla glass',\n",
       " 'lenovo k8 note mobile is very poor mobile.that mobile very problem1-bettry backup very poor .2-back camera(5mp)not working .3- it is not volte only lte .4- that mobile verry hot .5- funtation velly slow .6- operating verry bad .',\n",
       " 'i bought this phone, even though i am already having lenov vibe k5 note assuming this phone is the game changer. but to my disappointment not much changes compared to lenovo vibe k5 note. even though there a slight increase of 500 mah bettery life, but you wont experience that increase. while taking photo, shot on the screen appear smaller than vibe k5 note. but low light photos are slighly better in lenovo k8 note. even some of the features are missing in lenovo k8 note like super battery save mode etc. not that great buy.',\n",
       " 'so far so good.. best in the price range.',\n",
       " 'looking nice,,cemara superb.perparmence good.but cell heating.',\n",
       " 'nice',\n",
       " 'camera is poor.',\n",
       " 'lenovo k8 note is very good product at this time of android generation. it has great speed & look.',\n",
       " 'best ever phone good camera quality good ram best feachers lenovo is best',\n",
       " 'looking good , phone not hanging, battery very good',\n",
       " 'phone is good; but is too large.. difficult to hold in hand. also the ui is not very user friendly.',\n",
       " ...]"
      ]
     },
     "execution_count": 10,
     "metadata": {},
     "output_type": "execute_result"
    }
   ],
   "source": [
    "reviews_lower"
   ]
  },
  {
   "cell_type": "markdown",
   "metadata": {},
   "source": [
    "### 3.Tokenize the reviews using NLTKs word_tokenize function.\n"
   ]
  },
  {
   "cell_type": "code",
   "execution_count": 11,
   "metadata": {},
   "outputs": [
    {
     "name": "stderr",
     "output_type": "stream",
     "text": [
      "[nltk_data] Downloading package punkt to\n",
      "[nltk_data]     C:\\Users\\saksh\\AppData\\Roaming\\nltk_data...\n",
      "[nltk_data]   Package punkt is already up-to-date!\n"
     ]
    },
    {
     "data": {
      "text/plain": [
       "True"
      ]
     },
     "execution_count": 11,
     "metadata": {},
     "output_type": "execute_result"
    }
   ],
   "source": [
    "import nltk\n",
    "nltk.download('punkt')"
   ]
  },
  {
   "cell_type": "code",
   "execution_count": 12,
   "metadata": {},
   "outputs": [
    {
     "data": {
      "text/plain": [
       "['good', 'but', 'need', 'updates', 'and', 'improvements']"
      ]
     },
     "execution_count": 12,
     "metadata": {},
     "output_type": "execute_result"
    }
   ],
   "source": [
    "#Tokenize the reviews using NLTKs word_tokenize function.\n",
    "reviews_token = [nltk.word_tokenize(sent) for sent in reviews_lower]\n",
    "reviews_token[0]"
   ]
  },
  {
   "cell_type": "code",
   "execution_count": 13,
   "metadata": {},
   "outputs": [
    {
     "data": {
      "text/plain": [
       "['only',\n",
       " 'i',\n",
       " \"'m\",\n",
       " 'telling',\n",
       " 'do',\n",
       " \"n't\",\n",
       " 'buyi',\n",
       " \"'m\",\n",
       " 'totally',\n",
       " 'disappointedpoor',\n",
       " 'batterypoor',\n",
       " 'camerawaste',\n",
       " 'of',\n",
       " 'money']"
      ]
     },
     "execution_count": 13,
     "metadata": {},
     "output_type": "execute_result"
    }
   ],
   "source": [
    "reviews_token[5]"
   ]
  },
  {
   "cell_type": "code",
   "execution_count": 14,
   "metadata": {},
   "outputs": [
    {
     "data": {
      "text/plain": [
       "['nice',\n",
       " 'performance',\n",
       " 'with',\n",
       " '4gb',\n",
       " 'rm',\n",
       " 'and',\n",
       " '64gb',\n",
       " 'inbuilt',\n",
       " 'memory']"
      ]
     },
     "execution_count": 14,
     "metadata": {},
     "output_type": "execute_result"
    }
   ],
   "source": [
    "reviews_token[50]"
   ]
  },
  {
   "cell_type": "code",
   "execution_count": 15,
   "metadata": {},
   "outputs": [
    {
     "data": {
      "text/plain": [
       "['good', 'product', 'but', 'the', 'pakeging', 'was', 'not', 'enough', '.']"
      ]
     },
     "execution_count": 15,
     "metadata": {},
     "output_type": "execute_result"
    }
   ],
   "source": [
    "reviews_token[14674]"
   ]
  },
  {
   "cell_type": "markdown",
   "metadata": {},
   "source": [
    "### 4. Perform parts-of-speech tagging on each sentence using the NLTK POS tagger.\n"
   ]
  },
  {
   "cell_type": "code",
   "execution_count": 16,
   "metadata": {},
   "outputs": [
    {
     "name": "stderr",
     "output_type": "stream",
     "text": [
      "[nltk_data] Downloading package averaged_perceptron_tagger to\n",
      "[nltk_data]     C:\\Users\\saksh\\AppData\\Roaming\\nltk_data...\n",
      "[nltk_data]   Package averaged_perceptron_tagger is already up-to-\n",
      "[nltk_data]       date!\n"
     ]
    },
    {
     "data": {
      "text/plain": [
       "True"
      ]
     },
     "execution_count": 16,
     "metadata": {},
     "output_type": "execute_result"
    }
   ],
   "source": [
    "import nltk\n",
    "nltk.download('averaged_perceptron_tagger')"
   ]
  },
  {
   "cell_type": "code",
   "execution_count": 17,
   "metadata": {},
   "outputs": [
    {
     "data": {
      "text/plain": [
       "[('good', 'JJ'),\n",
       " ('but', 'CC'),\n",
       " ('need', 'VBP'),\n",
       " ('updates', 'NNS'),\n",
       " ('and', 'CC'),\n",
       " ('improvements', 'NNS')]"
      ]
     },
     "execution_count": 17,
     "metadata": {},
     "output_type": "execute_result"
    }
   ],
   "source": [
    "#Perform parts-of-speech tagging on each sentence using the NLTK POS tagger.\n",
    "#For a single sentence: \n",
    "nltk.pos_tag(reviews_token[0])"
   ]
  },
  {
   "cell_type": "code",
   "execution_count": 18,
   "metadata": {},
   "outputs": [
    {
     "data": {
      "text/plain": [
       "[('wrost', 'NN')]"
      ]
     },
     "execution_count": 18,
     "metadata": {},
     "output_type": "execute_result"
    }
   ],
   "source": [
    " \n",
    "nltk.pos_tag(reviews_token[10])"
   ]
  },
  {
   "cell_type": "code",
   "execution_count": 19,
   "metadata": {},
   "outputs": [
    {
     "data": {
      "text/plain": [
       "[('nice', 'JJ'),\n",
       " ('performance', 'NN'),\n",
       " ('with', 'IN'),\n",
       " ('4gb', 'CD'),\n",
       " ('rm', 'NNS'),\n",
       " ('and', 'CC'),\n",
       " ('64gb', 'CD'),\n",
       " ('inbuilt', 'JJ'),\n",
       " ('memory', 'NN')]"
      ]
     },
     "execution_count": 19,
     "metadata": {},
     "output_type": "execute_result"
    }
   ],
   "source": [
    " \n",
    "nltk.pos_tag(reviews_token[50])"
   ]
  },
  {
   "cell_type": "code",
   "execution_count": 20,
   "metadata": {},
   "outputs": [
    {
     "data": {
      "text/plain": [
       "[('good', 'JJ'),\n",
       " ('but', 'CC'),\n",
       " ('need', 'VBP'),\n",
       " ('updates', 'NNS'),\n",
       " ('and', 'CC'),\n",
       " ('improvements', 'NNS')]"
      ]
     },
     "execution_count": 20,
     "metadata": {},
     "output_type": "execute_result"
    }
   ],
   "source": [
    "\n",
    "#for all the sentences using list comprehension:\n",
    "reviews_tagged = [nltk.pos_tag(tokens) for tokens in reviews_token]\n",
    "\n",
    "reviews_tagged[0]"
   ]
  },
  {
   "cell_type": "code",
   "execution_count": 21,
   "metadata": {},
   "outputs": [
    {
     "data": {
      "text/plain": [
       "[('nice', 'JJ'),\n",
       " ('performance', 'NN'),\n",
       " ('with', 'IN'),\n",
       " ('4gb', 'CD'),\n",
       " ('rm', 'NNS'),\n",
       " ('and', 'CC'),\n",
       " ('64gb', 'CD'),\n",
       " ('inbuilt', 'JJ'),\n",
       " ('memory', 'NN')]"
      ]
     },
     "execution_count": 21,
     "metadata": {},
     "output_type": "execute_result"
    }
   ],
   "source": [
    "\n",
    "\n",
    "reviews_tagged[50]"
   ]
  },
  {
   "cell_type": "markdown",
   "metadata": {},
   "source": [
    "### 5. For the topic model, we should want to include only nouns."
   ]
  },
  {
   "cell_type": "markdown",
   "metadata": {},
   "source": [
    "##### a. First, find out all the POS tags that correspond to nouns."
   ]
  },
  {
   "cell_type": "markdown",
   "metadata": {},
   "source": [
    "##### b. Limit the data to only terms with these tags\n",
    "\n",
    "finding out the different POS tags using the NLTK help utility.\n",
    "\n"
   ]
  },
  {
   "cell_type": "code",
   "execution_count": 23,
   "metadata": {},
   "outputs": [
    {
     "name": "stderr",
     "output_type": "stream",
     "text": [
      "[nltk_data] Downloading package tagsets to\n",
      "[nltk_data]     C:\\Users\\saksh\\AppData\\Roaming\\nltk_data...\n",
      "[nltk_data]   Unzipping help\\tagsets.zip.\n"
     ]
    },
    {
     "data": {
      "text/plain": [
       "True"
      ]
     },
     "execution_count": 23,
     "metadata": {},
     "output_type": "execute_result"
    }
   ],
   "source": [
    "nltk.download('tagsets')\n"
   ]
  },
  {
   "cell_type": "code",
   "execution_count": 22,
   "metadata": {},
   "outputs": [
    {
     "name": "stdout",
     "output_type": "stream",
     "text": [
      "$: dollar\n",
      "    $ -$ --$ A$ C$ HK$ M$ NZ$ S$ U.S.$ US$\n",
      "'': closing quotation mark\n",
      "    ' ''\n",
      "(: opening parenthesis\n",
      "    ( [ {\n",
      "): closing parenthesis\n",
      "    ) ] }\n",
      ",: comma\n",
      "    ,\n",
      "--: dash\n",
      "    --\n",
      ".: sentence terminator\n",
      "    . ! ?\n",
      ":: colon or ellipsis\n",
      "    : ; ...\n",
      "CC: conjunction, coordinating\n",
      "    & 'n and both but either et for less minus neither nor or plus so\n",
      "    therefore times v. versus vs. whether yet\n",
      "CD: numeral, cardinal\n",
      "    mid-1890 nine-thirty forty-two one-tenth ten million 0.5 one forty-\n",
      "    seven 1987 twenty '79 zero two 78-degrees eighty-four IX '60s .025\n",
      "    fifteen 271,124 dozen quintillion DM2,000 ...\n",
      "DT: determiner\n",
      "    all an another any both del each either every half la many much nary\n",
      "    neither no some such that the them these this those\n",
      "EX: existential there\n",
      "    there\n",
      "FW: foreign word\n",
      "    gemeinschaft hund ich jeux habeas Haementeria Herr K'ang-si vous\n",
      "    lutihaw alai je jour objets salutaris fille quibusdam pas trop Monte\n",
      "    terram fiche oui corporis ...\n",
      "IN: preposition or conjunction, subordinating\n",
      "    astride among uppon whether out inside pro despite on by throughout\n",
      "    below within for towards near behind atop around if like until below\n",
      "    next into if beside ...\n",
      "JJ: adjective or numeral, ordinal\n",
      "    third ill-mannered pre-war regrettable oiled calamitous first separable\n",
      "    ectoplasmic battery-powered participatory fourth still-to-be-named\n",
      "    multilingual multi-disciplinary ...\n",
      "JJR: adjective, comparative\n",
      "    bleaker braver breezier briefer brighter brisker broader bumper busier\n",
      "    calmer cheaper choosier cleaner clearer closer colder commoner costlier\n",
      "    cozier creamier crunchier cuter ...\n",
      "JJS: adjective, superlative\n",
      "    calmest cheapest choicest classiest cleanest clearest closest commonest\n",
      "    corniest costliest crassest creepiest crudest cutest darkest deadliest\n",
      "    dearest deepest densest dinkiest ...\n",
      "LS: list item marker\n",
      "    A A. B B. C C. D E F First G H I J K One SP-44001 SP-44002 SP-44005\n",
      "    SP-44007 Second Third Three Two * a b c d first five four one six three\n",
      "    two\n",
      "MD: modal auxiliary\n",
      "    can cannot could couldn't dare may might must need ought shall should\n",
      "    shouldn't will would\n",
      "NN: noun, common, singular or mass\n",
      "    common-carrier cabbage knuckle-duster Casino afghan shed thermostat\n",
      "    investment slide humour falloff slick wind hyena override subhumanity\n",
      "    machinist ...\n",
      "NNP: noun, proper, singular\n",
      "    Motown Venneboerger Czestochwa Ranzer Conchita Trumplane Christos\n",
      "    Oceanside Escobar Kreisler Sawyer Cougar Yvette Ervin ODI Darryl CTCA\n",
      "    Shannon A.K.C. Meltex Liverpool ...\n",
      "NNPS: noun, proper, plural\n",
      "    Americans Americas Amharas Amityvilles Amusements Anarcho-Syndicalists\n",
      "    Andalusians Andes Andruses Angels Animals Anthony Antilles Antiques\n",
      "    Apache Apaches Apocrypha ...\n",
      "NNS: noun, common, plural\n",
      "    undergraduates scotches bric-a-brac products bodyguards facets coasts\n",
      "    divestitures storehouses designs clubs fragrances averages\n",
      "    subjectivists apprehensions muses factory-jobs ...\n",
      "PDT: pre-determiner\n",
      "    all both half many quite such sure this\n",
      "POS: genitive marker\n",
      "    ' 's\n",
      "PRP: pronoun, personal\n",
      "    hers herself him himself hisself it itself me myself one oneself ours\n",
      "    ourselves ownself self she thee theirs them themselves they thou thy us\n",
      "PRP$: pronoun, possessive\n",
      "    her his mine my our ours their thy your\n",
      "RB: adverb\n",
      "    occasionally unabatingly maddeningly adventurously professedly\n",
      "    stirringly prominently technologically magisterially predominately\n",
      "    swiftly fiscally pitilessly ...\n",
      "RBR: adverb, comparative\n",
      "    further gloomier grander graver greater grimmer harder harsher\n",
      "    healthier heavier higher however larger later leaner lengthier less-\n",
      "    perfectly lesser lonelier longer louder lower more ...\n",
      "RBS: adverb, superlative\n",
      "    best biggest bluntest earliest farthest first furthest hardest\n",
      "    heartiest highest largest least less most nearest second tightest worst\n",
      "RP: particle\n",
      "    aboard about across along apart around aside at away back before behind\n",
      "    by crop down ever fast for forth from go high i.e. in into just later\n",
      "    low more off on open out over per pie raising start teeth that through\n",
      "    under unto up up-pp upon whole with you\n",
      "SYM: symbol\n",
      "    % & ' '' ''. ) ). * + ,. < = > @ A[fj] U.S U.S.S.R * ** ***\n",
      "TO: \"to\" as preposition or infinitive marker\n",
      "    to\n",
      "UH: interjection\n",
      "    Goodbye Goody Gosh Wow Jeepers Jee-sus Hubba Hey Kee-reist Oops amen\n",
      "    huh howdy uh dammit whammo shucks heck anyways whodunnit honey golly\n",
      "    man baby diddle hush sonuvabitch ...\n",
      "VB: verb, base form\n",
      "    ask assemble assess assign assume atone attention avoid bake balkanize\n",
      "    bank begin behold believe bend benefit bevel beware bless boil bomb\n",
      "    boost brace break bring broil brush build ...\n",
      "VBD: verb, past tense\n",
      "    dipped pleaded swiped regummed soaked tidied convened halted registered\n",
      "    cushioned exacted snubbed strode aimed adopted belied figgered\n",
      "    speculated wore appreciated contemplated ...\n",
      "VBG: verb, present participle or gerund\n",
      "    telegraphing stirring focusing angering judging stalling lactating\n",
      "    hankerin' alleging veering capping approaching traveling besieging\n",
      "    encrypting interrupting erasing wincing ...\n",
      "VBN: verb, past participle\n",
      "    multihulled dilapidated aerosolized chaired languished panelized used\n",
      "    experimented flourished imitated reunifed factored condensed sheared\n",
      "    unsettled primed dubbed desired ...\n",
      "VBP: verb, present tense, not 3rd person singular\n",
      "    predominate wrap resort sue twist spill cure lengthen brush terminate\n",
      "    appear tend stray glisten obtain comprise detest tease attract\n",
      "    emphasize mold postpone sever return wag ...\n",
      "VBZ: verb, present tense, 3rd person singular\n",
      "    bases reconstructs marks mixes displeases seals carps weaves snatches\n",
      "    slumps stretches authorizes smolders pictures emerges stockpiles\n",
      "    seduces fizzes uses bolsters slaps speaks pleads ...\n",
      "WDT: WH-determiner\n",
      "    that what whatever which whichever\n",
      "WP: WH-pronoun\n",
      "    that what whatever whatsoever which who whom whosoever\n",
      "WP$: WH-pronoun, possessive\n",
      "    whose\n",
      "WRB: Wh-adverb\n",
      "    how however whence whenever where whereby whereever wherein whereof why\n",
      "``: opening quotation mark\n",
      "    ` ``\n"
     ]
    }
   ],
   "source": [
    "nltk.help.upenn_tagset()\n"
   ]
  },
  {
   "cell_type": "code",
   "execution_count": 23,
   "metadata": {},
   "outputs": [
    {
     "data": {
      "text/plain": [
       "('great', 'JJ')"
      ]
     },
     "execution_count": 23,
     "metadata": {},
     "output_type": "execute_result"
    }
   ],
   "source": [
    "#The tags we are interested in are NN, NNP, NNS, and NNPS, all tags that begin with ‘NN’.\n",
    "\n",
    "tagged_tuple = nltk.pos_tag(['great'])\n",
    "tagged_tuple[0]"
   ]
  },
  {
   "cell_type": "code",
   "execution_count": 24,
   "metadata": {},
   "outputs": [
    {
     "data": {
      "text/plain": [
       "[('updates', 'NNS'), ('improvements', 'NNS')]"
      ]
     },
     "execution_count": 24,
     "metadata": {},
     "output_type": "execute_result"
    }
   ],
   "source": [
    "import re\n",
    "reviews_noun=[]\n",
    "for sent in reviews_tagged:\n",
    "    reviews_noun.append([token for token in sent if re.search(\"NN.*\", token[1])])\n",
    "\n",
    "reviews_noun[0]"
   ]
  },
  {
   "cell_type": "code",
   "execution_count": 25,
   "metadata": {},
   "outputs": [
    {
     "data": {
      "text/plain": [
       "[('performance', 'NN'), ('rm', 'NNS'), ('memory', 'NN')]"
      ]
     },
     "execution_count": 25,
     "metadata": {},
     "output_type": "execute_result"
    }
   ],
   "source": [
    "reviews_noun[50]"
   ]
  },
  {
   "cell_type": "markdown",
   "metadata": {},
   "source": [
    "### 6.Lemmatize\n",
    "a. Different forms of the terms needs to be treated as one.\n",
    "\n",
    "b. No need to provide POS tag to lemmatizer for now."
   ]
  },
  {
   "cell_type": "code",
   "execution_count": 26,
   "metadata": {},
   "outputs": [],
   "source": [
    "from nltk import WordNetLemmatizer\n",
    "lemm = WordNetLemmatizer()"
   ]
  },
  {
   "cell_type": "code",
   "execution_count": 27,
   "metadata": {},
   "outputs": [
    {
     "name": "stderr",
     "output_type": "stream",
     "text": [
      "[nltk_data] Downloading package wordnet to\n",
      "[nltk_data]     C:\\Users\\saksh\\AppData\\Roaming\\nltk_data...\n",
      "[nltk_data]   Package wordnet is already up-to-date!\n"
     ]
    },
    {
     "data": {
      "text/plain": [
       "True"
      ]
     },
     "execution_count": 27,
     "metadata": {},
     "output_type": "execute_result"
    }
   ],
   "source": [
    "import nltk\n",
    "nltk.download('wordnet')"
   ]
  },
  {
   "cell_type": "code",
   "execution_count": 28,
   "metadata": {},
   "outputs": [
    {
     "data": {
      "text/plain": [
       "['update', 'improvement']"
      ]
     },
     "execution_count": 28,
     "metadata": {},
     "output_type": "execute_result"
    }
   ],
   "source": [
    "reviews_lemm=[]\n",
    "for sent in reviews_noun:\n",
    "    reviews_lemm.append([lemm.lemmatize(word[0]) for word in sent])    \n",
    "\n",
    "reviews_lemm[0]"
   ]
  },
  {
   "cell_type": "code",
   "execution_count": 29,
   "metadata": {},
   "outputs": [
    {
     "data": {
      "text/plain": [
       "['performance', 'rm', 'memory']"
      ]
     },
     "execution_count": 29,
     "metadata": {},
     "output_type": "execute_result"
    }
   ],
   "source": [
    "reviews_lemm[50]"
   ]
  },
  {
   "cell_type": "markdown",
   "metadata": {},
   "source": [
    "### 7. Remove stop words and punctuation (if there are any)"
   ]
  },
  {
   "cell_type": "code",
   "execution_count": 30,
   "metadata": {},
   "outputs": [],
   "source": [
    "\n",
    "from string import punctuation\n",
    "from nltk.corpus import stopwords"
   ]
  },
  {
   "cell_type": "code",
   "execution_count": 31,
   "metadata": {},
   "outputs": [
    {
     "name": "stderr",
     "output_type": "stream",
     "text": [
      "[nltk_data] Downloading package stopwords to\n",
      "[nltk_data]     C:\\Users\\saksh\\AppData\\Roaming\\nltk_data...\n",
      "[nltk_data]   Package stopwords is already up-to-date!\n"
     ]
    },
    {
     "data": {
      "text/plain": [
       "True"
      ]
     },
     "execution_count": 31,
     "metadata": {},
     "output_type": "execute_result"
    }
   ],
   "source": [
    " import nltk\n",
    "nltk.download('stopwords')"
   ]
  },
  {
   "cell_type": "code",
   "execution_count": 32,
   "metadata": {},
   "outputs": [],
   "source": [
    "stop_nltk = stopwords.words(\"english\")\n",
    "stop_updated = stop_nltk + list(punctuation) + [\"...\"] + [\"..\"]"
   ]
  },
  {
   "cell_type": "code",
   "execution_count": 33,
   "metadata": {},
   "outputs": [],
   "source": [
    "#Creating an empty list for the result.\n",
    "reviews_sw_removed=[]"
   ]
  },
  {
   "cell_type": "code",
   "execution_count": 34,
   "metadata": {},
   "outputs": [],
   "source": [
    "\n",
    "#Looping over the reviews:\n",
    "for sent in reviews_lemm:\n",
    "    reviews_sw_removed.append([term for term in sent if term not in stop_updated])"
   ]
  },
  {
   "cell_type": "code",
   "execution_count": 35,
   "metadata": {},
   "outputs": [
    {
     "data": {
      "text/plain": [
       "['mobile',\n",
       " 'battery',\n",
       " 'hell',\n",
       " 'backup',\n",
       " 'hour',\n",
       " 'us',\n",
       " 'idle',\n",
       " 'discharged.this',\n",
       " 'lie',\n",
       " 'amazon',\n",
       " 'lenove',\n",
       " 'battery',\n",
       " 'charger',\n",
       " 'hour']"
      ]
     },
     "execution_count": 35,
     "metadata": {},
     "output_type": "execute_result"
    }
   ],
   "source": [
    "#Examining one of them: \n",
    "reviews_sw_removed[1]"
   ]
  },
  {
   "cell_type": "code",
   "execution_count": 36,
   "metadata": {},
   "outputs": [
    {
     "data": {
      "text/plain": [
       "['performance', 'rm', 'memory']"
      ]
     },
     "execution_count": 36,
     "metadata": {},
     "output_type": "execute_result"
    }
   ],
   "source": [
    "reviews_sw_removed[50]"
   ]
  },
  {
   "cell_type": "code",
   "execution_count": 37,
   "metadata": {},
   "outputs": [
    {
     "data": {
      "text/plain": [
       "['product', 'pakeging']"
      ]
     },
     "execution_count": 37,
     "metadata": {},
     "output_type": "execute_result"
    }
   ],
   "source": [
    "reviews_sw_removed[14674]"
   ]
  },
  {
   "cell_type": "markdown",
   "metadata": {},
   "source": [
    "### 8.Create a topic model using LDA on the cleaned up data with 12 topics.\n",
    "a. Print out the top terms for each topic.\n",
    "\n",
    "b. What is the coherence of the model with the c_v metric?"
   ]
  },
  {
   "cell_type": "code",
   "execution_count": 38,
   "metadata": {},
   "outputs": [],
   "source": [
    "\n",
    "import gensim\n",
    "import gensim.corpora as corpora\n",
    "from gensim.models import CoherenceModel\n",
    "from gensim.models import ldamodel\n",
    "from gensim import corpora"
   ]
  },
  {
   "cell_type": "code",
   "execution_count": 39,
   "metadata": {},
   "outputs": [
    {
     "name": "stdout",
     "output_type": "stream",
     "text": [
      "Requirement already satisfied: gensim in c:\\users\\saksh\\anaconda3\\lib\\site-packages (4.1.2)\n",
      "Requirement already satisfied: Cython==0.29.23 in c:\\users\\saksh\\anaconda3\\lib\\site-packages (from gensim) (0.29.23)\n",
      "Requirement already satisfied: smart-open>=1.8.1 in c:\\users\\saksh\\anaconda3\\lib\\site-packages (from gensim) (5.2.1)\n",
      "Requirement already satisfied: numpy>=1.17.0 in c:\\users\\saksh\\anaconda3\\lib\\site-packages (from gensim) (1.18.5)\n",
      "Requirement already satisfied: scipy>=0.18.1 in c:\\users\\saksh\\anaconda3\\lib\\site-packages (from gensim) (1.5.0)\n",
      "Note: you may need to restart the kernel to use updated packages.\n"
     ]
    }
   ],
   "source": [
    "pip install gensim\n"
   ]
  },
  {
   "cell_type": "code",
   "execution_count": 40,
   "metadata": {},
   "outputs": [],
   "source": [
    "\n",
    "id2word = corpora.Dictionary(reviews_sw_removed)\n",
    "texts = reviews_sw_removed"
   ]
  },
  {
   "cell_type": "code",
   "execution_count": 41,
   "metadata": {},
   "outputs": [
    {
     "name": "stdout",
     "output_type": "stream",
     "text": [
      "[(36, 1), (143, 1), (314, 1), (415, 1), (416, 1)]\n"
     ]
    }
   ],
   "source": [
    "#Applying id2word on our reviews data to get the indices, instead of words for each review.\n",
    "corpus = [id2word.doc2bow(text) for text in texts]\n",
    "print(corpus[200])"
   ]
  },
  {
   "cell_type": "code",
   "execution_count": 42,
   "metadata": {},
   "outputs": [],
   "source": [
    "#Building the topic model using LDA, with 12 topics.\n",
    "lda_model = gensim.models.ldamodel.LdaModel(corpus=corpus,\n",
    "                                           id2word=id2word,\n",
    "                                           num_topics=12, \n",
    "                                           random_state=42,\n",
    "                                           passes=10,\n",
    "                                           per_word_topics=True)"
   ]
  },
  {
   "cell_type": "code",
   "execution_count": 43,
   "metadata": {},
   "outputs": [
    {
     "name": "stdout",
     "output_type": "stream",
     "text": [
      "\n",
      "Coherence Score:  0.475339388396195\n"
     ]
    }
   ],
   "source": [
    "#Calculating the coherence of the model using the c_v metric.\n",
    "coherence_model_lda = CoherenceModel(model=lda_model, texts=reviews_sw_removed, dictionary=id2word, coherence='c_v')\n",
    "coherence_lda = coherence_model_lda.get_coherence()\n",
    "\n",
    "print('\\nCoherence Score: ', coherence_lda)"
   ]
  },
  {
   "cell_type": "markdown",
   "metadata": {},
   "source": [
    "### 9. Analyze the topics through the business lens.\n",
    "a. Determine which of the topics can be combined.\n",
    "\n",
    "Looking at the topics and each terms following can be combined\n",
    "\n",
    "--Topic 2 and 5 possibly talks about 'pricing'\n",
    "\n",
    "--Topic 4, 6 and 10 closely talks about 'battery related issues'\n",
    "\n",
    "--Topic 3 and 11 vaguely talks about 'performance'"
   ]
  },
  {
   "cell_type": "markdown",
   "metadata": {},
   "source": [
    "### 10. Create topic model using LDA with what you think is the optimal number of topics\n",
    "8 topics seems to be the right number of topics from the data. We’ll create a topic model with 8 topics."
   ]
  },
  {
   "cell_type": "code",
   "execution_count": 44,
   "metadata": {},
   "outputs": [],
   "source": [
    "# Build LDA model:\n",
    "lda_model8 = gensim.models.ldamodel.LdaModel(corpus=corpus,\n",
    "                                           id2word=id2word,\n",
    "                                           num_topics=8, \n",
    "                                           random_state=42,\n",
    "                                           passes=10,\n",
    "                                           per_word_topics=True)"
   ]
  },
  {
   "cell_type": "code",
   "execution_count": 45,
   "metadata": {},
   "outputs": [
    {
     "name": "stdout",
     "output_type": "stream",
     "text": [
      "\n",
      "Coherence Score:  0.5351527233521374\n"
     ]
    }
   ],
   "source": [
    "#Printing the coherence of the model:\n",
    "coherence_model_lda = CoherenceModel(model=lda_model8, texts=reviews_sw_removed, dictionary=id2word, coherence='c_v')\n",
    "coherence_lda = coherence_model_lda.get_coherence()\n",
    "print('\\nCoherence Score: ', coherence_lda)"
   ]
  },
  {
   "cell_type": "markdown",
   "metadata": {},
   "source": [
    "### 11. The business should be able to interpret the topics.\n",
    "a. Name each of the identified topics.\n",
    "\n",
    "b. Create a table with the topic name and the top 10 terms in each to present to the business."
   ]
  },
  {
   "cell_type": "code",
   "execution_count": 46,
   "metadata": {},
   "outputs": [
    {
     "name": "stdout",
     "output_type": "stream",
     "text": [
      "0::['mobile', 'charging', 'hour', 'charger', 'charge', 'battery', 'turbo', 'hr', 'card', 'notification']\n",
      "1::['money', 'waste', 'value', 'screen', 'glass', 'speaker', 'call', 'handset', 'box', 'headphone']\n",
      "2::['note', 'camera', 'quality', 'k8', 'feature', 'lenovo', 'sound', 'phone', 'music', 'speaker']\n",
      "3::['phone', 'day', 'issue', 'time', 'battery', 'lenovo', 'month', 'problem', 'service', 'update']\n",
      "4::['product', 'problem', 'network', 'issue', 'heating', 'amazon', 'sim', 'return', '....', 'delivery']\n",
      "5::['camera', 'battery', 'phone', 'performance', 'quality', 'backup', '....', 'issue', 'life', 'processor']\n",
      "6::['price', 'phone', 'range', 'superb', 'device', 'super', 'feature', 'excellent', 'specification', 'k']\n",
      "7::['charger', 'hai', 'h', 'ho', 'cable', 'bill', 'bhi', 'hi', 'offer', 'ye']\n",
      "\n"
     ]
    }
   ],
   "source": [
    "x = lda_model8.show_topics(formatted=False)\n",
    "topics_words = [(tp[0], [wd[0] for wd in tp[1]]) for tp in x]\n",
    "\n",
    "for topic,words in topics_words:\n",
    "    print(str(topic)+ \"::\"+ str(words))\n",
    "print()"
   ]
  },
  {
   "cell_type": "code",
   "execution_count": null,
   "metadata": {},
   "outputs": [],
   "source": []
  }
 ],
 "metadata": {
  "kernelspec": {
   "display_name": "Python 3",
   "language": "python",
   "name": "python3"
  },
  "language_info": {
   "codemirror_mode": {
    "name": "ipython",
    "version": 3
   },
   "file_extension": ".py",
   "mimetype": "text/x-python",
   "name": "python",
   "nbconvert_exporter": "python",
   "pygments_lexer": "ipython3",
   "version": "3.8.3"
  }
 },
 "nbformat": 4,
 "nbformat_minor": 4
}
